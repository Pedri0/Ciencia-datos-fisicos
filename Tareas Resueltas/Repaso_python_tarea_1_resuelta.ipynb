{
 "cells": [
  {
   "attachments": {},
   "cell_type": "markdown",
   "id": "5460c487",
   "metadata": {},
   "source": [
    "## Tarea 1: Repaso de los conceptos básicos de Python\n",
    "### Ciencia de datos para físicos: Facultad de ciencias, UNAM\n",
    "#### Profesores: Karen Rubí Jiménez-López, Pedro Arturo Flores-Silva\n",
    "\n",
    "**Instrucciones:** Este notebook contiene una serie de ejercicios que deben ser resueltos. Cada ejercicio se encuentra en una celda, ya sea de código o Markdown. Debes crear una o dos *celdas debajo de cada ejercicio* con tu(s) respectiva(s) respuestas. No modifiques las celdas originales.\n",
    "\n",
    "Recuerda que para ejecutar el código de una celda, presionar `Ctlr + Enter` o bien el boton de `play` en el editor Jupyter notebook.\n",
    "\n",
    "Cada ejercicio tendrá diferente valor, y se indicará en la celda de éste. La calificación final será la suma de los puntos obtenidos en cada ejercicio. Se calificará considerando la calidad de la respuesta, la claridad de la explicación y la correctitud del código. Por ejemplo, si el código no ejecuta la respuesta correcta pero se da una idea textual, se demuestra que hay comprensión del problema y el código hace sentido para el revisor, se otorgará una calificación parcial. Esto es, las respuestas no solo se evaluarán como bien o mal, sino que se considerará el esfuerzo.\n",
    "\n",
    "El codigo que realices debes comentarlo donde creas necesario, no vale no hacer ningún comentario. Recuerda que los comentarios son importantes para que el código sea legible y entendible, éstos se agregan con el símbolo #. Para las funciones y/o clases que crees, agrega la documentación correspondiente (docstring), éste se agrega con `\"\"\" docstring \"\"\"`."
   ]
  },
  {
   "attachments": {},
   "cell_type": "markdown",
   "id": "66df713a",
   "metadata": {},
   "source": [
    "### Ejercicio 1 (1 punto):\n",
    "En una celda Markdown contesta: \n",
    "* ¿Qué es una palabra reservada en python? Enlista 5 ejemplos de nombres reservados en python y describe su función.\n",
    "* Coloca tres ejemplos de nombres de variables que no son válidos en python. Explica por qué no son válidos."
   ]
  },
  {
   "attachments": {},
   "cell_type": "markdown",
   "id": "8f4fd89b",
   "metadata": {},
   "source": [
    "### Ejercicio 2 (1 punto):\n",
    "\n",
    "En una celda de código, escribe una función que encuentre las raíces de cualquier polinomio de segundo grado (implementar la chicharronera). En una celda markdown detalla posibles casos en la cual la función podría fallar.\n",
    "Usa dicha función para encontrar las raíces del polinomio $f(x) = 10x^2 - 2x$ e imprimelas en pantalla."
   ]
  },
  {
   "cell_type": "code",
   "execution_count": 1,
   "id": "fece5965",
   "metadata": {},
   "outputs": [],
   "source": [
    "# Un polinomio de segundo grado se puede expresar como ax^2 + bx + c = 0\n",
    "# donde a, b y c son números reales y a != 0\n",
    "# La solución de este polinomio se puede calcular con la fórmula\n",
    "# x = (-b +- sqrt(b^2 - 4ac)) / 2a\n",
    "# La función raices_segundo_grado() debe calcular las raíces de un polinomio\n",
    "# y tendrá como parámetros de entrada los coeficientes a, b y c\n",
    "\n",
    "def raices_segundo_grado(a,b,c):\n",
    "    \"\"\"Calcula las raíces de un polinomio de segundo grado\n",
    "\n",
    "    Args:\n",
    "        a (float): Coeficiente a\n",
    "        b (float): Coeficiente b\n",
    "        c (float): Coeficiente c\n",
    "\n",
    "    Returns:\n",
    "        tuple: Tupla con las raíces del polinomio\n",
    "    \"\"\"\n",
    "    # Comprobamos que el coeficiente a no sea 0\n",
    "    if a == 0:\n",
    "        # Si es 0, lanzamos una excepción\n",
    "        return ValueError('El coeficiente a no puede ser 0')\n",
    "    # Si no es 0, calculamos las raíces\n",
    "    else:\n",
    "        discriminante = b**2 - 4*a*c\n",
    "        x1 = (-b + discriminante**(1/2)) / (2*a)\n",
    "        x2 = (-b - discriminante**(1/2)) / (2*a)\n",
    "        return x1, x2"
   ]
  },
  {
   "cell_type": "code",
   "execution_count": 2,
   "id": "d6dd57cf",
   "metadata": {},
   "outputs": [
    {
     "name": "stdout",
     "output_type": "stream",
     "text": [
      "Las raices del polinomio 10x^2-2x son (0.2, 0.0)\n"
     ]
    }
   ],
   "source": [
    "print(\"Las raices del polinomio 10x^2-2x son {}\".format(raices_segundo_grado(10,-2,0)))"
   ]
  },
  {
   "cell_type": "code",
   "execution_count": 3,
   "id": "4d1f7ec0",
   "metadata": {},
   "outputs": [
    {
     "name": "stdout",
     "output_type": "stream",
     "text": [
      "Las raices del polinomio x^2+1 son ((6.123233995736766e-17+1j), (-6.123233995736766e-17-1j))\n"
     ]
    }
   ],
   "source": [
    "print(\"Las raices del polinomio x^2+1 son {}\".format(raices_segundo_grado(1,0,1)))"
   ]
  },
  {
   "attachments": {},
   "cell_type": "markdown",
   "id": "f7a4e675",
   "metadata": {},
   "source": [
    "La función falla cuando a=0, ya que no es un polinomio de segundo grado. Ya que la chicharronera a=0 y division entre cero no esta definida."
   ]
  },
  {
   "attachments": {},
   "cell_type": "markdown",
   "id": "7610c62b",
   "metadata": {},
   "source": [
    "### Ejercicio 3 (1 punto):\n",
    "\n",
    "*Caida libre*: El gran Galileo Galilei subió la torre de Pisa para determinar el tiempo que tarda un objeto en caer desde una altura $H$ al suelo. Para ello, colocó un objeto de masa $m=100$ kg en la torre y lo dejó caer. El tiempo que tardó en caer fue $t=0.05616667$ minutos.\n",
    "\n",
    "Considerando que la aceleración de la gravedad es $g=9.8$ $\\frac{m}{s^2}$, escribe un programa que determine la altura de la torre de Pisa. El programa debe imprimir la altura en la pantalla.\n",
    "\n",
    "Recuerda que el movimiento de caída libre simplificado cumple la ecuación: $y(t) = H + vt - \\frac{1}{2}gt^2$."
   ]
  },
  {
   "cell_type": "code",
   "execution_count": 4,
   "id": "1fc9f87e",
   "metadata": {},
   "outputs": [
    {
     "name": "stdout",
     "output_type": "stream",
     "text": [
      "La altura de la torre Pisa con este experimento es 55.65 metros\n"
     ]
    }
   ],
   "source": [
    "\"\"\"Dado que queremos H, la altura para la cual el objeto llega al suelo, se sigue que v = 0 para t=3.37. También y = 0 para dicho instante\n",
    "pues ese será el marco de referencia, asi tenemos que la ecuacion es 0 = H + v*(0) - 1/2 gt^2. Así:\n",
    "H = (1/2)gt^2 con esto calculamos la altura de la torre Pisa con el siguiente código\n",
    "\"\"\"\n",
    "\n",
    "#define el tiempo que tarda en caer el objeto (en minutos)\n",
    "tiempo_caer = 0.05616667\n",
    "# convierte el tiempo que tarda en caer a segundos\n",
    "tiempo_caer_seg = tiempo_caer * 60\n",
    "# crea una variable que contenga el valor del tiempo en segundos al cuadrado t^2 (s)\n",
    "tiempo_cuadrado = tiempo_caer_seg ** 2\n",
    "# crea una variable que contenga el valor de la aceleracion\n",
    "aceleracion_grav = 9.8\n",
    "#realiza el cálculo al que se llegó al despejar la ecuacion general\n",
    "altura_pisa = 0.5 * aceleracion_grav * tiempo_cuadrado\n",
    "#imprime el resultado\n",
    "print(\"La altura de la torre Pisa con este experimento es {:.2f} metros\".format(altura_pisa))"
   ]
  },
  {
   "attachments": {},
   "cell_type": "markdown",
   "id": "bf2d28e7",
   "metadata": {},
   "source": [
    "### Ejercicio 4 (1 punto):\n",
    "Crea una lista de números enteros del 0 al 99 : `lista = [0,1, 2, 3, 4, ... , 95, 96, 97, 98, 99]` (6 puntos menos si creas la lista manualmente).\n",
    " \n",
    "Escribe un programa que imprima en la pantalla una la lista que cumpla con las siguientes condiciones:\n",
    "* Los ultimos 10 elementos: debe imprimir lo siguiente `[90, 91, 92, 93, 94, 95, 96, 97, 98, 99]`.\n",
    "* Los primeros 11 elementos: debe imprimir lo siguiente `[0, 1, 2, 3, 4, 5, 6, 7, 8, 9, 10]`.\n",
    "* La serie de elementos de la lista que están entre 60 y 75: debe imprimir lo siguiente `[60, 61, 62, 63, 64, 65, 66, 67, 68, 69, 70, 71, 72, 73, 74, 75]`.\n",
    "* El número 50: debe imprimir lo siguiente `50` NO debe ser `[50]`.\n",
    "\n",
    "Debes aplicar el concepto de *slicing* para resolver este ejercicio (notación de puntos `[:]`).\n",
    "\n",
    "Puntos menos si se crean listas nuevas para cada caso y/o se seleccionan manualmente los valores."
   ]
  },
  {
   "cell_type": "code",
   "execution_count": 5,
   "id": "62e58b90",
   "metadata": {},
   "outputs": [
    {
     "name": "stdout",
     "output_type": "stream",
     "text": [
      "[90, 91, 92, 93, 94, 95, 96, 97, 98, 99]\n",
      "[0, 1, 2, 3, 4, 5, 6, 7, 8, 9, 10]\n",
      "[60, 61, 62, 63, 64, 65, 66, 67, 68, 69, 70, 71, 72, 73, 74, 75]\n",
      "50\n"
     ]
    }
   ],
   "source": [
    "#crea una lista con los números del 0 al 99\n",
    "lista = list(range(100))\n",
    "print(lista[-10:])\n",
    "print(lista[:11])\n",
    "print(lista[60:76])\n",
    "print(lista[50])"
   ]
  },
  {
   "attachments": {},
   "cell_type": "markdown",
   "id": "ac5b94d8",
   "metadata": {},
   "source": [
    "### Ejercicio 5 (1 punto):\n",
    "Crea una lista de números enteros del 0 al 1000. A partir de dicha lista:\n",
    "* Guarda en una variable una lista con los números pares usando ciclos y condicionales. Imprime los últimos 10 elementos de la lista final.\n",
    "* Guarda en una variable una lista con los números impares usando listas comprensivas (comprehension list). Imprime los primeros 10 elementos de la lista final."
   ]
  },
  {
   "cell_type": "code",
   "execution_count": 6,
   "id": "2ecbb93d",
   "metadata": {},
   "outputs": [
    {
     "name": "stdout",
     "output_type": "stream",
     "text": [
      "[982, 984, 986, 988, 990, 992, 994, 996, 998, 1000]\n",
      "[1, 3, 5, 7, 9, 11, 13, 15, 17, 19]\n"
     ]
    }
   ],
   "source": [
    "lista = list(range(1001))\n",
    "\n",
    "pares = []\n",
    "#itera sobre los elementos de la lista\n",
    "for i in lista:\n",
    "    #comprueba si el elemento es par\n",
    "    if i % 2 == 0:\n",
    "        pares.append(i)\n",
    "#imprime los ultimos 10 elementos de la lista de números pares\n",
    "print(pares[-10:])\n",
    "\n",
    "#impares con lista comprensiva\n",
    "impares = [impar for impar in lista if impar % 2 != 0]\n",
    "\n",
    "#imprime los primeros 10 elementos de la lista de números impares\n",
    "print(impares[:10])"
   ]
  },
  {
   "attachments": {},
   "cell_type": "markdown",
   "id": "00462693",
   "metadata": {},
   "source": [
    "### Ejercicio 6 (2 puntos): Aproximación de $\\pi$\n",
    "Una de las formas más sencillas de aproximar $\\pi$ es mediante la siguiente serie infinita de Leibniz:\n",
    "$$\\frac{\\pi}{4} = \\sum_{n=0}^{\\infty}\\frac{(-1)^{n}}{(2n+1)} = \\frac{1}{1} - \\frac{1}{3} + \\frac{1}{5}-\\frac{1}{7}+\\frac{1}{9}-...$$\n",
    "\n",
    "crea una función para aproximar $\\pi$ utilizando la serie de Leibniz. Usa n = 1000000 e imprime el valor de tu aproximación tanto el valor de $\\frac{\\pi}{4}$ como $\\pi$.\n",
    "\n",
    "El valor de $\\pi$ se obtiene al despejar:\n",
    "$$\\pi = 4 * \\left(\\sum_{n=0}^{\\infty}\\frac{(-1)^{n}}{(2n+1)} \\right)$$\n",
    "\n",
    "La siguiente celda de codigo ofrece el valor de $\\frac{\\pi}{4}$"
   ]
  },
  {
   "cell_type": "code",
   "execution_count": 7,
   "id": "a4a31d07",
   "metadata": {},
   "outputs": [
    {
     "name": "stdout",
     "output_type": "stream",
     "text": [
      "El valor de pi/4 es aproximadamente 0.7853981633974483\n"
     ]
    }
   ],
   "source": [
    "import numpy as np\n",
    "#El valor de pi/4\n",
    "print(\"El valor de pi/4 es aproximadamente {}\".format(np.pi/4))"
   ]
  },
  {
   "cell_type": "code",
   "execution_count": 8,
   "id": "694a8c5b",
   "metadata": {},
   "outputs": [],
   "source": [
    "def aproximate_pi(n):\n",
    "    \"\"\"Aproxima el valor pi usando el metodo de Leibniz\n",
    "\n",
    "    Args:\n",
    "        n (int): numero de iteraciones\n",
    "\n",
    "    Returns:\n",
    "        float: valor aproximado de pi\n",
    "    \"\"\"\n",
    "    #variable que almacena el valor de pi/4\n",
    "    valor = 0\n",
    "    #iteramos sobre los valores de 0 a n\n",
    "    for i in range(n):\n",
    "        #calculamos el valor actual i = un numero\n",
    "        valor_actual = (((-1)**i)) / (((2*i)+1))\n",
    "        #sumamos el valor actual a la suma total\n",
    "        valor += valor_actual\n",
    "\n",
    "    return valor * 4"
   ]
  },
  {
   "cell_type": "code",
   "execution_count": 9,
   "id": "164d4feb",
   "metadata": {},
   "outputs": [
    {
     "name": "stdout",
     "output_type": "stream",
     "text": [
      "El valor aproximado de pi es 3.1415916535897743\n",
      "El valor aproximado de pi/4 es 0.7853979133974436\n"
     ]
    }
   ],
   "source": [
    "print(\"El valor aproximado de pi es {}\".format(aproximate_pi(1000000)))\n",
    "print(\"El valor aproximado de pi/4 es {}\".format(aproximate_pi(1000000)/4))"
   ]
  },
  {
   "attachments": {},
   "cell_type": "markdown",
   "id": "d0c28e6e",
   "metadata": {},
   "source": [
    "### Ejercicio 7 (1 puntos): Identificador de vocales\n",
    "\n",
    "Escribe una función que reciba una cadena, por ejemplo 'el pErro de la tiA chOnita' y regrese la cantidad de vocales que contiene. La función debe contener varios casos de prueba, if, elif y else. Con la cadena de ejemplo, imprime en pantalla el resultado de la función (10).\n",
    "\n",
    "Para conocer si un caracter es una vocal, primero debes descomponer la cadena en caracteres individuales. Para ello observa el siguiente código:"
   ]
  },
  {
   "cell_type": "code",
   "execution_count": 10,
   "id": "55a65e0f",
   "metadata": {},
   "outputs": [
    {
     "name": "stdout",
     "output_type": "stream",
     "text": [
      "['e', 'l', ' ', 'p', 'E', 'r', 'r', 'o', ' ', 'd', 'e', ' ', 'l', 'a', ' ', 't', 'i', 'A', ' ', 'c', 'h', 'O', 'n', 'i', 't', 'a']\n"
     ]
    }
   ],
   "source": [
    "# Divide una cadena en caracteres individuales\n",
    "cadena_prueba = 'el pErro de la tiA chOnita'\n",
    "caracteres_individuales = list(cadena_prueba)\n",
    "print(caracteres_individuales)"
   ]
  },
  {
   "cell_type": "code",
   "execution_count": 11,
   "id": "1ae42f13",
   "metadata": {},
   "outputs": [],
   "source": [
    "def numero_vocales(cadena):\n",
    "    \"\"\"Cuenta el número de vocales en una cadena\n",
    "\n",
    "    Args:\n",
    "        cadena (str): Cadena de texto\n",
    "\n",
    "    Returns:\n",
    "        int: Número de vocales en la cadena\n",
    "    \"\"\"\n",
    "    # Inicializamos el contador de vocales\n",
    "    contador = 0\n",
    "    # Convertimos la cadena a minúsculas\n",
    "    cadena = cadena.lower()\n",
    "    # Iteramos sobre los caracteres de la cadena\n",
    "    for caracter in cadena:\n",
    "        # Comprobamos si el caracter es una vocal con multiples condiciones\n",
    "        if caracter == 'a':\n",
    "            # Si es una vocal, incrementamos el contador\n",
    "            contador += 1\n",
    "        elif caracter == 'e':\n",
    "            # Si es una vocal, incrementamos el contador\n",
    "            contador += 1\n",
    "        elif caracter == 'i':\n",
    "            # Si es una vocal, incrementamos el contador\n",
    "            contador += 1\n",
    "        elif caracter == 'o':\n",
    "            # Si es una vocal, incrementamos el contador\n",
    "            contador += 1\n",
    "        elif caracter == 'u':\n",
    "            # Si es una vocal, incrementamos el contador\n",
    "            contador += 1\n",
    "        else:\n",
    "            pass\n",
    "\n",
    "\n",
    "    return contador"
   ]
  },
  {
   "cell_type": "code",
   "execution_count": 12,
   "id": "0980f991",
   "metadata": {},
   "outputs": [
    {
     "name": "stdout",
     "output_type": "stream",
     "text": [
      "10\n"
     ]
    }
   ],
   "source": [
    "print(numero_vocales(cadena_prueba))"
   ]
  },
  {
   "attachments": {},
   "cell_type": "markdown",
   "id": "fb89fa24",
   "metadata": {},
   "source": [
    "### Ejercicio 8 (2 puntos):\n",
    "\n",
    "Escribe una clase \"calculadora\" que regrese el resultado de las operaciones de suma, resta, multiplicacion, division, modulo y potencia. La clase debe contener un método para cada operación.\n",
    "\n",
    "Los métodos que pudiesen presentar errores como division entre cero, deben ser manejados de tal manera que el programa no imprima ningun error (vimos una clausula para hacer esto).\n",
    "\n",
    "Adicional a esto, los métodos modulo y potencia deben ser generales, es decir, deben funcionar para cualquier número entero positivo (es un parámetro extra del método). Por ejemplo, la potencia de 2 elevado a 3 es 8, la potencia de 5 elevado a 3 es 125, etc.\n",
    "\n",
    "Crea una instancia de la clase calculadora y prueba cada uno de los métodos, con valores de tu elección. Para los métodos que pudiesen presentar errores da dos ejemplos, uno totalmente funcional (3/5 por ejemplo) y otro que sea conflictivo pero que no regresa ningún error (4/0 por ejemplo)."
   ]
  },
  {
   "cell_type": "code",
   "execution_count": 13,
   "id": "d78988ef",
   "metadata": {},
   "outputs": [],
   "source": [
    "class Calculadora():\n",
    "\n",
    "    def __init__(self):\n",
    "        \"\"\"Constructor de la clase\n",
    "        \"\"\"\n",
    "        pass\n",
    "\n",
    "    def suma(self, a, b):\n",
    "        \"\"\"Suma dos números\n",
    "\n",
    "        Args:\n",
    "            a (int): Primer sumando\n",
    "            b (int): Segundo sumando\n",
    "\n",
    "        Returns:\n",
    "            int: Resultado de la suma\n",
    "        \"\"\"\n",
    "        return a + b\n",
    "    \n",
    "    def resta(self, a, b):\n",
    "        \"\"\"Resta dos números\n",
    "\n",
    "        Args:\n",
    "            a (int): Minuendo\n",
    "            b (int): Sustraendo\n",
    "\n",
    "        Returns:\n",
    "            int: Resultado de la resta\n",
    "        \"\"\"\n",
    "        return a - b\n",
    "    \n",
    "    def multiplicacion(self, a, b):\n",
    "        \"\"\"Multiplica dos números\n",
    "\n",
    "        Args:\n",
    "            a (int): Primer factor\n",
    "            b (int): Segundo factor\n",
    "\n",
    "        Returns:\n",
    "            int: Resultado de la multiplicación\n",
    "        \"\"\"\n",
    "        return a * b\n",
    "\n",
    "    def division(self, a, b):\n",
    "        \"\"\"Divide dos números\n",
    "\n",
    "        Args:\n",
    "            a (int): Dividendo\n",
    "            b (int): Divisor\n",
    "\n",
    "        Returns:\n",
    "            int: Resultado de la división\n",
    "        \"\"\"\n",
    "        try:\n",
    "            return a / b\n",
    "        except ZeroDivisionError:\n",
    "            pass\n",
    "    \n",
    "    def potencia(self, a, b):\n",
    "        \"\"\"Calcula la potencia de un número\n",
    "\n",
    "        Args:\n",
    "            a (int): Base\n",
    "            b (int): Exponente\n",
    "\n",
    "        Returns:\n",
    "            int: Resultado de la potencia\n",
    "        \"\"\"\n",
    "        return a ** b\n",
    "    \n",
    "    def raiz(self, a, b):\n",
    "        \"\"\"Calcula la raiz de un número\n",
    "\n",
    "        Args:\n",
    "            a (int): Radicando\n",
    "            b (int): Indice de la raiz\n",
    "\n",
    "        Returns:\n",
    "            int: Resultado de la raiz\n",
    "        \"\"\"\n",
    "        try:\n",
    "            return a ** (1/b)\n",
    "        except ZeroDivisionError:\n",
    "            pass\n",
    "\n",
    "    def modulo(self, a, b):\n",
    "        \"\"\"Calcula el modulo de un número\n",
    "\n",
    "        Args:\n",
    "            a (int): Dividendo\n",
    "            b (int): Divisor\n",
    "\n",
    "        Returns:\n",
    "            int: Resultado del modulo\n",
    "        \"\"\"\n",
    "        try:\n",
    "            return a % b\n",
    "        except ZeroDivisionError:\n",
    "            pass"
   ]
  },
  {
   "cell_type": "code",
   "execution_count": 14,
   "id": "bb52372c",
   "metadata": {},
   "outputs": [
    {
     "name": "stdout",
     "output_type": "stream",
     "text": [
      "suma: 5\n",
      "resta: -1\n",
      "multiplicacion: 6\n",
      "division: 0.6666666666666666\n",
      "division por cero: None\n",
      "potencia: 8\n",
      "potencia a la cero: 1\n",
      "raiz: 1.2599210498948732\n",
      "raiz cero: None\n",
      "modulo: 2\n",
      "modulo cero: None\n"
     ]
    }
   ],
   "source": [
    "calculadora = Calculadora()\n",
    "\n",
    "print('suma: {}'.format(calculadora.suma(2, 3)))\n",
    "print('resta: {}'.format(calculadora.resta(2, 3)))\n",
    "print('multiplicacion: {}'.format(calculadora.multiplicacion(2, 3)))\n",
    "print('division: {}'.format(calculadora.division(2, 3)))\n",
    "print('division por cero: {}'.format(calculadora.division(2, 0)))\n",
    "print('potencia: {}'.format(calculadora.potencia(2, 3)))\n",
    "print('potencia a la cero: {}'.format(calculadora.potencia(2, 0)))\n",
    "print('raiz: {}'.format(calculadora.raiz(2, 3)))\n",
    "print('raiz cero: {}'.format(calculadora.raiz(2, 0)))\n",
    "print('modulo: {}'.format(calculadora.modulo(2, 3)))\n",
    "print('modulo cero: {}'.format(calculadora.modulo(2, 0)))"
   ]
  },
  {
   "attachments": {},
   "cell_type": "markdown",
   "id": "c6e4da53",
   "metadata": {},
   "source": [
    "### Ejercicio de puntos extras opcional (1 punto):\n",
    "\n",
    "Supóngamos que tenemos una lista de números enteros y queremos encontrar el número más grande. Por ejemplo, si la lista es `[1, 2, 3, 4, 5]` el número más grande es 5. Crea una función que encuentre el número más grande en una lista de números. La función debe regresar el número más grande y el índice en el que se encuentra. Prueba la función con una lista de números de tu elección."
   ]
  },
  {
   "cell_type": "code",
   "execution_count": 15,
   "id": "092540cd",
   "metadata": {},
   "outputs": [],
   "source": [
    "def maximo_lista(lista):\n",
    "    \"\"\"Calcula el máximo de una lista\n",
    "\n",
    "    Args:\n",
    "        lista (list): Lista de números\n",
    "\n",
    "    Returns:\n",
    "        int: Máximo de la lista\n",
    "    \"\"\"\n",
    "    # Inicializamos el valor máximo\n",
    "    maximo = 0\n",
    "    # Iteramos sobre los elementos de la lista\n",
    "    for elemento in lista:\n",
    "        # Comprobamos si el elemento es mayor que el máximo\n",
    "        if elemento > maximo:\n",
    "            # Si es mayor, lo asignamos como nuevo máximo\n",
    "            maximo = elemento\n",
    "        else:\n",
    "            pass\n",
    "\n",
    "    return maximo"
   ]
  },
  {
   "cell_type": "code",
   "execution_count": 16,
   "id": "2603dfd6",
   "metadata": {},
   "outputs": [
    {
     "name": "stdout",
     "output_type": "stream",
     "text": [
      "0\n"
     ]
    }
   ],
   "source": [
    "lista = list(range(0,-1000, -8))\n",
    "print(maximo_lista(lista))"
   ]
  },
  {
   "attachments": {},
   "cell_type": "markdown",
   "id": "525883b3",
   "metadata": {},
   "source": [
    "### Ejercicio de puntos extras opcional (3 puntos):\n",
    "\n",
    "Supóngamos que tenemos un dado convencional de 6 caras. Crea una función que simule el lanzamiento de un dado. La función debe regresar un número aleatorio entre 1 y 6.\n",
    "\n",
    "Sabemos que la probabilidad de que salga un número es de $\\frac{1}{6}$, es decir, la probabilidad de que salga un 1 es de $\\frac{1}{6}$, la probabilidad de que salga un 2 es de $\\frac{1}{6}$, etc.\n",
    "\n",
    "* Prueba la función con 6 lanzamientos, en una celda markdown explica porqué el resultado es dificilmente [1, 2, 3, 4, 5, 6].\n",
    "\n",
    "* Prueba la función con 10000 lanzamientos, crea una grafica de barras de los resultados (investiga como puedes graficar los resultados en una grafica de barras) y explica a que distribucion se parece y porqué es así.\n",
    "\n",
    "Hint: Para crear los números aleatorios, puedes usar la función `random.randint()`. O bien, usar el modulo numpy para crearlos. Para graficar los resultados, puedes usar la libreria matplotlib, seaborn, plotly o cualquiera que se te haga más fácil."
   ]
  },
  {
   "cell_type": "code",
   "execution_count": 17,
   "id": "4baf9ff2",
   "metadata": {},
   "outputs": [
    {
     "data": {
      "text/plain": [
       "[6, 1, 6, 1, 6, 1]"
      ]
     },
     "execution_count": 17,
     "metadata": {},
     "output_type": "execute_result"
    }
   ],
   "source": [
    "# seis lanzamientos de un dado\n",
    "list(np.random.randint(1, 7, 6))"
   ]
  },
  {
   "attachments": {},
   "cell_type": "markdown",
   "id": "7c469061",
   "metadata": {},
   "source": [
    "El resultado es dificilmente [1, 2, 3, 4, 5, 6] ya que se trata de un experimento aleatorio, con poca población, el valor de probabilidad de $\\frac{1}{6}$ se trata de un valor esperado, el cual asume una cantidad de lanzamientos infinita o muy grande, por lo que en un experimento con poca población, el valor esperado no se cumple necesariamente."
   ]
  },
  {
   "cell_type": "code",
   "execution_count": 18,
   "id": "8f1d94d0",
   "metadata": {},
   "outputs": [],
   "source": [
    "# mil lanzamientos de un dado\n",
    "mil_lanzamientos = list(np.random.randint(1, 7, 10000))"
   ]
  },
  {
   "cell_type": "code",
   "execution_count": 19,
   "id": "c2bbf129",
   "metadata": {},
   "outputs": [
    {
     "data": {
      "image/png": "[encoded data removed]",
      "text/plain": [
       "<Figure size 640x480 with 1 Axes>"
      ]
     },
     "metadata": {},
     "output_type": "display_data"
    }
   ],
   "source": [
    "import seaborn as sns\n",
    "#graficamos los resultados\n",
    "sns.histplot(mil_lanzamientos, color='blue', bins=6, discrete=True);"
   ]
  },
  {
   "attachments": {},
   "cell_type": "markdown",
   "id": "3c22e342",
   "metadata": {},
   "source": [
    "Se parece a una distribución de probabilidad uniforme, ya que la probabilidad de que salga cualquier número es de $\\frac{1}{6}$, es decir, la probabilidad de que salga un 1 es de $\\frac{1}{6}$, la probabilidad de que salga un 2 es de $\\frac{1}{6}$, etc."
   ]
  }
 ],
 "metadata": {
  "kernelspec": {
   "display_name": "Python 3 (ipykernel)",
   "language": "python",
   "name": "python3"
  },
  "language_info": {
   "codemirror_mode": {
    "name": "ipython",
    "version": 3
   },
   "file_extension": ".py",
   "mimetype": "text/x-python",
   "name": "python",
   "nbconvert_exporter": "python",
   "pygments_lexer": "ipython3",
   "version": "3.9.16"
  },
  "vscode": {
   "interpreter": {
    "hash": "ad2bdc8ecc057115af97d19610ffacc2b4e99fae6737bb82f5d7fb13d2f2c186"
   }
  }
 },
 "nbformat": 4,
 "nbformat_minor": 5
}

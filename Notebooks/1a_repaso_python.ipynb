{
 "cells": [
  {
   "cell_type": "markdown",
   "metadata": {},
   "source": [
    "# Repaso de los conceptos básicos de python\n",
    "\n",
    "### Ciencia de Datos para físicos: teoría y aplicaciones.\n",
    "\n",
    "En este notebook repasaremos los conceptos básicos de python, como variables, tipos de variables, valores, nombres, condicionales, loops, tuplas, listas, diccionarios, funciones, clases, modulos y paquetes."
   ]
  },
  {
   "cell_type": "markdown",
   "metadata": {},
   "source": [
    "#### Nivel 0: Variables\n",
    "\n",
    "Para comenzar veamos cómo imprimir texto en pantalla, esto se hace con el método ```print()```:"
   ]
  },
  {
   "cell_type": "code",
   "execution_count": 1,
   "metadata": {},
   "outputs": [
    {
     "name": "stdout",
     "output_type": "stream",
     "text": [
      "Hola mundo\n"
     ]
    }
   ],
   "source": [
    "print('Hola mundo')"
   ]
  },
  {
   "cell_type": "markdown",
   "metadata": {},
   "source": [
    "Documentación:\n",
    "\n",
    "Como DS siempre es importante documentar el código que uno escribe, ya que éste podría ser revisado por alguien más e incluso trabajar en conjunto con otros DS para desarrollar algún tipo de programa.\n",
    "\n",
    "La documentación es simplemente un comentario que se escribe en el código, para que el programador que lo revisa pueda entender qué es lo que hace el código. En python se hace con el símbolo ``#``. O bien, para una gran cantidad de lineas se usan los simbolos ``\"\"\"``."
   ]
  },
  {
   "cell_type": "code",
   "execution_count": 2,
   "metadata": {},
   "outputs": [
    {
     "name": "stdout",
     "output_type": "stream",
     "text": [
      "Hola mi buen amigo ¿Cómo estás?\n",
      "Adios amigos!\n"
     ]
    }
   ],
   "source": [
    "#Este es un comentario de una sola línea\n",
    "#Imprime en pantalla un saludo\n",
    "print(\"Hola mi buen amigo ¿Cómo estás?\")\n",
    "\n",
    "\"\"\"Este es un comentario de varias líneas\n",
    "en éste no es necesario colocar el simbolo #\n",
    "a continuación se imprime una despedida\n",
    "\"\"\"\n",
    "print(\"Adios amigos!\")"
   ]
  },
  {
   "cell_type": "markdown",
   "metadata": {},
   "source": [
    "En Python casi todo es un objeto, el cual es un trozo de datos que contiene al menos lo siguiente:\n",
    "* Un *tipo* de datos, que indica qué tipo de datos es el objeto.\n",
    "* Un *valor*, que es el valor de los datos que contiene el objeto.\n",
    "* Una *identidad* o *id*, que es un número único que identifica al objeto.\n",
    "\n",
    "En Python, los objetos tienen un tipo de datos, que indica qué tipo de datos es el objeto. Los tipos de datos más comúnes son los siguientes:\n",
    "\n",
    "|Nombre|Tipo| ¿Mutable? | Ejemplos |\n",
    "|:----:|:-: |:---------:| :-------:|\n",
    "| Boolean | bool | No | ``True``, ``False`` |\n",
    "| Integer | int  | No | ``47``, ``12400`` |\n",
    "| Floating point | float | No | ``3.1415``, ``2.7e10`` |\n",
    "| Complex | complex | No | ``3i``, ``5i+18`` |\n",
    "| Text string  | str | No | ``'f ciencias'``, ``\"Martes\"`` |\n",
    "| List | list | Si | ``['manzana',\"pera\",\"naranja\"]``, ``[1,5,3.14,'numeros']`` |\n",
    "| Tuple | tuple | No | ``(1,2,5,7,7)`` |\n",
    "| Set | set | Si | ``set((1,2,5,7,7))`` |\n",
    "| Dictionary | dict | Si | ``{'nombre':'Juan','edad':20}`` |\n",
    "\n",
    "La propiedad de **mutabilidad** se refiere a sí el o los valores asignados pueden ser cambiados (es mutable) o no (inmutable). Para clarificar esto, piensa en un objeto inmutable como una caja sellada, pero con los lados transparentes, puedes ver el valor pero no puedes cambiarlo. Por la misma analogía, un objeto mutable es como una caja con tapa: no sólo puedes ver el valor que hay dentro, también puedes cambiarlo; sin embargo, no puedes cambiar su tipo.\n",
    "\n",
    "Python es un lenguaje de programación **débilmente tipado** lo que significa que el tipo de un objeto puede no ser específicado.\n",
    "\n",
    "\n",
    "Para declarar o definir una variable debe asignarse un nombre a ésta y ademas usar el simbolo =. Por ejemplo:\n",
    "\n",
    "``mi_edad = 18``\n",
    "\n",
    "``pi = 3.1415``\n",
    "\n",
    "En python los nombres de las variables deben seguir las siguientes reglas:\n",
    "* Solo pueden contener los siguientes caracteres\n",
    "    * Letras (a-z, A-Z)\n",
    "    * Números (0-9)\n",
    "    * Guiones bajos (_)\n",
    "* Son case-sensitive, es decir, que ``edad``, ``EDAD``, ``Edad``, ``EdaD``, ...,  son variables diferentes.\n",
    "* No pueden empezar con un número.\n",
    "* No pueden ser palabras reservadas del lenguaje.\n",
    "\n",
    "Las palabras reservadas en python son:\n",
    "\n",
    "|nombre|nombre|nombre|nombre|nombre|\n",
    "|:----:|:----:|:---------:| :-------:|:---------:|\n",
    "| False|await|else|import|pass|\n",
    "| None|break|except|in|raise|\n",
    "| True|class|finally|is|return|\n",
    "| and|continue|for|lambda|try|\n",
    "| as|def|from|nonlocal|while|\n",
    "| assert|del|global|not|with|\n",
    "| async|elif|if|or|yield|\n",
    "\n",
    "Algunos nombres de variables no válidos en python son:\n",
    "* ``1edad``\n",
    "* ``edad 1``\n",
    "* ``edad-1``\n",
    "* ``edad+1``\n",
    "* ``edad*1``\n",
    "* ``edad/1``\n",
    "* ``edad@1``\n",
    "* ``edad#1``\n",
    "* ``edad-1``\n",
    "* ``1_``"
   ]
  },
  {
   "cell_type": "code",
   "execution_count": 3,
   "metadata": {},
   "outputs": [
    {
     "name": "stdout",
     "output_type": "stream",
     "text": [
      "Firulais 5 10.5 True\n",
      "El perro se llama Firulais y tiene 5 años, pesa 10.5 kg y está vivo: True\n"
     ]
    }
   ],
   "source": [
    "#definamos algunas variables de diversos tipos\n",
    "nombre_perro = \"Firulais\"\n",
    "edad_perro = 5\n",
    "peso_perro = 10.5\n",
    "esta_vivo = True\n",
    "#imprimamos las variables\n",
    "print(nombre_perro, edad_perro, peso_perro, esta_vivo)\n",
    "#este print puede hacerse más informativo con el uso de format\n",
    "print('El perro se llama {} y tiene {} años, pesa {} kg y está vivo: {}'\\\n",
    "    .format(nombre_perro, edad_perro, peso_perro, esta_vivo))"
   ]
  },
  {
   "cell_type": "code",
   "execution_count": 4,
   "metadata": {},
   "outputs": [
    {
     "name": "stdout",
     "output_type": "stream",
     "text": [
      "<class 'str'>\n",
      "<class 'int'>\n",
      "<class 'float'>\n",
      "<class 'bool'>\n"
     ]
    }
   ],
   "source": [
    "#podemos conocer el tipo de la variable usando el método type\n",
    "print(type(nombre_perro))\n",
    "print(type(edad_perro))\n",
    "print(type(peso_perro))\n",
    "print(type(esta_vivo))"
   ]
  },
  {
   "cell_type": "markdown",
   "metadata": {},
   "source": [
    "En programación existe un concepto llamado **buenas prácticas de programación**, dentro de la cual se sugiere el uso de nombres de variables relevantes al programa en cuestión. Imagina que en el ejemplo anterior en lugar de nombre, edad, peso y esta_vivo hubiesemos usado los nombres de variables a1xx, b, f46g y booleano, ¿te imaginas cuánto tiempo te tomaría entender a qué se refiere cada variable? Por eso es importante usar nombres de variables que tengan sentido."
   ]
  },
  {
   "cell_type": "code",
   "execution_count": 5,
   "metadata": {},
   "outputs": [
    {
     "name": "stdout",
     "output_type": "stream",
     "text": [
      "True True True\n"
     ]
    }
   ],
   "source": [
    "#Tambien pueden definirse varias variables en una sola linea\n",
    "alumno_1_aprobado = alumno_2_aprobado = alumno_j_aprobado = True\n",
    "print(alumno_1_aprobado, alumno_2_aprobado, alumno_j_aprobado)"
   ]
  },
  {
   "cell_type": "code",
   "execution_count": 6,
   "metadata": {},
   "outputs": [
    {
     "name": "stdout",
     "output_type": "stream",
     "text": [
      "True True False\n"
     ]
    }
   ],
   "source": [
    "#Tambien pueden definirse varias variables en una sola linea\n",
    "alumno_1_aprobado, alumno_2_aprobado, alumno_j_aprobado = True, True, False\n",
    "print(alumno_1_aprobado, alumno_2_aprobado, alumno_j_aprobado)"
   ]
  },
  {
   "cell_type": "markdown",
   "metadata": {},
   "source": [
    "#### Nivel 1: Operaciones con variables\n",
    "\n",
    "Las operaciones aritméticas con variables están bien definidas, como en el álgebra.\n",
    "\n",
    "|Operador|Descripción| Ejemplos |\n",
    "|:----:|:-: |:---------:|\n",
    "| + | Suma~~toria~~ | ``5+9`` |\n",
    "| - | Resta  | ``5-9`` |\n",
    "| * | Producto~~ria~~ | ``5*9`` |\n",
    "| / | División | ``5/9`` |\n",
    "| //  | División entera | ``5//9`` |\n",
    "| % | Modulo | ``5%9`` |\n",
    "| ** | Exponenciación | ``2**3`` |\n",
    "| == | Igualdad | ``2==3`` |\n",
    "| != | Diferencia | ``2!=3`` |\n",
    "| > | Mayor que | ``2>3`` |\n",
    "| < | Menor que | ``2>3`` |\n",
    "| > | Mayor o igual que | ``2>=3`` |\n",
    "| <= | Menor o igual que | ``2>3`` |\n",
    "\n",
    "* Algunos operadores no están bien definidos para algunos tipos, por ejemplo la division entre dos str"
   ]
  },
  {
   "cell_type": "code",
   "execution_count": 7,
   "metadata": {},
   "outputs": [
    {
     "name": "stdout",
     "output_type": "stream",
     "text": [
      "+:5, -:-1, *:6, /:0.6666666666666666, //:0, %:2, **:8, ==:False, !=:True, >:False, <:True, >=:False, <=:True\n"
     ]
    }
   ],
   "source": [
    "print(f\"+:{2+3}, -:{2-3}, *:{2*3}, /:{2/3}, //:{2//3}, %:{2%3}, **:{2**3}, \" \n",
    " f\"==:{2==3}, !=:{2!=3}, >:{2>3}, <:{2<3}, >=:{2>=3}, <=:{2<=3}\")"
   ]
  },
  {
   "cell_type": "markdown",
   "metadata": {},
   "source": [
    "Las operaciones con booleanos se realizan de forma especial. Python realiza una operación llamada **cast** la cual consiste en usar una copia del tipo boleano y convertirla a un valor entero. True vale 1 y False vale 0. Para realizar un **cast** se usa el tipo que se desea convertir seguido de la variable a convertir.\n",
    "Castear algunos valores no tienen mucho sentido, por ejemplo str 'perro' casteado a un booleano regresa True."
   ]
  },
  {
   "cell_type": "code",
   "execution_count": 8,
   "metadata": {},
   "outputs": [
    {
     "data": {
      "text/plain": [
       "1"
      ]
     },
     "execution_count": 8,
     "metadata": {},
     "output_type": "execute_result"
    }
   ],
   "source": [
    "int(True)"
   ]
  },
  {
   "cell_type": "code",
   "execution_count": 9,
   "metadata": {},
   "outputs": [
    {
     "data": {
      "text/plain": [
       "0.0"
      ]
     },
     "execution_count": 9,
     "metadata": {},
     "output_type": "execute_result"
    }
   ],
   "source": [
    "float(False)"
   ]
  },
  {
   "cell_type": "code",
   "execution_count": 10,
   "metadata": {},
   "outputs": [
    {
     "data": {
      "text/plain": [
       "'True'"
      ]
     },
     "execution_count": 10,
     "metadata": {},
     "output_type": "execute_result"
    }
   ],
   "source": [
    "str(True)"
   ]
  },
  {
   "cell_type": "markdown",
   "metadata": {},
   "source": [
    "La operación aritmética con booleanos no debe confundirse con álgebra booleana, en la cual se usan los operadores lógicos AND, OR y NOT. En el álgebra booleana siempre se regresará un valor booleano, mientras que en la operación aritmética con booleanos se regresará un valor entero."
   ]
  },
  {
   "cell_type": "code",
   "execution_count": 11,
   "metadata": {},
   "outputs": [
    {
     "name": "stdout",
     "output_type": "stream",
     "text": [
      "aritmética: 0 booleana: False\n"
     ]
    }
   ],
   "source": [
    "print(f'aritmética: {True * False} booleana: {True and False}')"
   ]
  },
  {
   "cell_type": "markdown",
   "metadata": {},
   "source": [
    "Veamos ahora un ejemplo de operaciones con variables"
   ]
  },
  {
   "cell_type": "code",
   "execution_count": 12,
   "metadata": {},
   "outputs": [
    {
     "name": "stdout",
     "output_type": "stream",
     "text": [
      "El volumen del cubo es: 6243.275 cm^3\n"
     ]
    }
   ],
   "source": [
    "lado_1 = 30.455\n",
    "lado_2 = 20.500\n",
    "lado_3 = 10.000\n",
    "\n",
    "vol = lado_1 * lado_2 * lado_3\n",
    "\n",
    "print(f'El volumen del cubo es: {vol} cm^3')"
   ]
  },
  {
   "cell_type": "code",
   "execution_count": 13,
   "metadata": {},
   "outputs": [
    {
     "name": "stdout",
     "output_type": "stream",
     "text": [
      "El volumen del cubo es: 708.275 cm^3\n"
     ]
    }
   ],
   "source": [
    "lado_1 = 3.455\n",
    "vol = lado_1 * lado_2 * lado_3\n",
    "\n",
    "print(f'El volumen del cubo es: {vol} cm^3')"
   ]
  },
  {
   "cell_type": "code",
   "execution_count": 14,
   "metadata": {},
   "outputs": [
    {
     "name": "stdout",
     "output_type": "stream",
     "text": [
      "El área del lado 1 y 2 del cubo es: 7.08275 cm^2\n"
     ]
    }
   ],
   "source": [
    "vol = (lado_1 * lado_2) / lado_3\n",
    "\n",
    "print(f'El área del lado 1 y 2 del cubo es: {vol} cm^2')"
   ]
  },
  {
   "cell_type": "code",
   "execution_count": 15,
   "metadata": {},
   "outputs": [
    {
     "name": "stdout",
     "output_type": "stream",
     "text": [
      "7.0\n"
     ]
    }
   ],
   "source": [
    "vol = vol - 0.08275\n",
    "print(vol)"
   ]
  },
  {
   "cell_type": "code",
   "execution_count": 16,
   "metadata": {},
   "outputs": [
    {
     "name": "stdout",
     "output_type": "stream",
     "text": [
      "8.0\n"
     ]
    }
   ],
   "source": [
    "vol += 1\n",
    "print(vol) "
   ]
  },
  {
   "cell_type": "code",
   "execution_count": 17,
   "metadata": {},
   "outputs": [
    {
     "name": "stdout",
     "output_type": "stream",
     "text": [
      "5.0\n"
     ]
    }
   ],
   "source": [
    "vol -= 3\n",
    "print(vol)"
   ]
  },
  {
   "cell_type": "code",
   "execution_count": 18,
   "metadata": {},
   "outputs": [
    {
     "name": "stdout",
     "output_type": "stream",
     "text": [
      "10.0 5.0\n"
     ]
    }
   ],
   "source": [
    "print(vol*2, vol)"
   ]
  },
  {
   "cell_type": "markdown",
   "metadata": {},
   "source": [
    "La jerarquía de operaciones a veces suele ser confusa, así que es mejor usar paréntesis para evitar errores."
   ]
  },
  {
   "cell_type": "code",
   "execution_count": 19,
   "metadata": {},
   "outputs": [
    {
     "data": {
      "text/plain": [
       "64.0"
      ]
     },
     "execution_count": 19,
     "metadata": {},
     "output_type": "execute_result"
    }
   ],
   "source": [
    "(((3+5)*2)/2)**2"
   ]
  },
  {
   "cell_type": "code",
   "execution_count": 20,
   "metadata": {},
   "outputs": [
    {
     "data": {
      "text/plain": [
       "5.5"
      ]
     },
     "execution_count": 20,
     "metadata": {},
     "output_type": "execute_result"
    }
   ],
   "source": [
    "3+5*2/2**2"
   ]
  },
  {
   "cell_type": "markdown",
   "metadata": {},
   "source": [
    "#### Nivel 2: Condicionales if, elif y else\n",
    "\n",
    "Los condicionales son estructuras de control que permiten controlar la ejecución de ciertas partes del código (el código debe encontrarse dentro de esta estructura de control.)\n",
    "\n",
    "El condicional if, se traduce al español como \"Si, esto se cumple, entonces haz esto\". El condicional if se escribe de la siguiente forma:\n",
    "\n",
    "``` python\n",
    "if condicion:\n",
    "    Código a ejecutar si la condición anterior se cumple\n",
    "```\n",
    "\n",
    "notése que después de la condición se colocan dos puntos y que el código a ejecutar se encuentra indentado (cuatro espacios) Si no se identa el código lanzará error o en el mejor de los casos aún cuando la condición no se cumpla, el código se ejecutará.\n",
    "\n",
    "El condicional if puede ser seguido de un condicional elif, el cual se traduce al español como \"Si no se cumple la condición anterior, pero se cumple esta, entonces haz esto\". El condicional elif se escribe de la siguiente forma:\n",
    "\n",
    "``` python\n",
    "if condicion_1:\n",
    "    Código a ejecutar si la condición_1 se cumple\n",
    "\n",
    "elif condicion_2:\n",
    "    Código a ejecutar si la condición_2 se cumple\n",
    "```\n",
    "Al igual con if, el código a ejecutar debe identarse.\n",
    "\n",
    "La estructura de control if puede ser seguida de un condicional else, el cual se traduce al español como \"Si no se cumple ninguna de las condiciones anteriores, entonces haz esto\". El condicional else se escribe de la siguiente forma:\n",
    "\n",
    "``` python\n",
    "if condicion:\n",
    "    Código a ejecutar si la condición anterior se cumple\n",
    "\n",
    "else:\n",
    "    Código a ejecutar si la(s) condición(es) no se cumple(n)\n",
    "```\n",
    "\n",
    "La condición es, la mayoría de veces, un operador lógico ``` >, <, ==, !=, >=, <= ```, pero también puede ser una expresión booleana, por ejemplo ```True or False```."
   ]
  },
  {
   "cell_type": "code",
   "execution_count": 21,
   "metadata": {},
   "outputs": [
    {
     "name": "stdout",
     "output_type": "stream",
     "text": [
      "Es impar\n"
     ]
    }
   ],
   "source": [
    "# Ejemplo checar si un número es par o impar (este código es un meme)\n",
    "numero = 5\n",
    "if numero == 0:\n",
    "    print('Es par')\n",
    "elif numero == 1:\n",
    "    print('Es impar')\n",
    "elif numero == 2:\n",
    "    print('Es par')\n",
    "elif numero == 3:\n",
    "    print('Es impar')\n",
    "elif numero == 4:\n",
    "    print('Es par')\n",
    "elif numero == 5:\n",
    "    print('Es impar')\n",
    "elif numero == 6:\n",
    "    print('Es par')\n",
    "else:\n",
    "    print('Me cansé de contar')"
   ]
  },
  {
   "cell_type": "code",
   "execution_count": 22,
   "metadata": {},
   "outputs": [
    {
     "name": "stdout",
     "output_type": "stream",
     "text": [
      "Es verdadero\n"
     ]
    }
   ],
   "source": [
    "booleano = True\n",
    "if booleano:\n",
    "    print('Es verdadero')\n",
    "else:\n",
    "    print('Es falso')"
   ]
  },
  {
   "cell_type": "code",
   "execution_count": 23,
   "metadata": {},
   "outputs": [
    {
     "name": "stdout",
     "output_type": "stream",
     "text": [
      "30.0\n"
     ]
    }
   ],
   "source": [
    "# puede omitirse la parte else, esto aveces se considera buenas prácticas, considera el código anterior\n",
    "if booleano:\n",
    "    print(90/3)\n",
    "\n",
    "booleano = False\n",
    "\n",
    "if booleano:\n",
    "    print('Fue True')"
   ]
  },
  {
   "cell_type": "code",
   "execution_count": 24,
   "metadata": {},
   "outputs": [
    {
     "name": "stdout",
     "output_type": "stream",
     "text": [
      "60\n"
     ]
    }
   ],
   "source": [
    "# otro ejemplo supongamos que queremos multiplicar por 3 siempre y cuando un número sea par\n",
    "numero = 20\n",
    "\n",
    "if numero%2 == 0:\n",
    "    print(numero*3)\n",
    "else:\n",
    "    print(numero)"
   ]
  },
  {
   "cell_type": "code",
   "execution_count": 25,
   "metadata": {},
   "outputs": [
    {
     "name": "stdout",
     "output_type": "stream",
     "text": [
      "Es divisible entre 2 y 3, además es positivo diferente de cero\n"
     ]
    }
   ],
   "source": [
    "#Pueden usarse los operadores and or y not para combinar condiciones\n",
    "#Recomendación: No usar demasiadas condiciciones ya que puede ser difícil de leer.\n",
    "numero = 10\n",
    "\n",
    "if (((numero%2 == 0) and (numero%3 == 0)) or (numero >= 0)) and numero != 0:\n",
    "    print('Es divisible entre 2 y 3, además es positivo diferente de cero')\n",
    "\n",
    "#cuidado con la combinación and or, la primera condicion no se cumple pues 10%3!=0, pero si se cumple que el numero es mayor que cero"
   ]
  },
  {
   "cell_type": "markdown",
   "metadata": {},
   "source": [
    "Los condicionales pueden anidarse, es decir dentro de un condicional puede existir otro condicional que a su vez puede contener más condicionales. Veamos un ejemplo:"
   ]
  },
  {
   "cell_type": "code",
   "execution_count": 26,
   "metadata": {},
   "outputs": [
    {
     "name": "stdout",
     "output_type": "stream",
     "text": [
      "El número_a es par y positivo y es menor que numero_b\n",
      "El número_c es negativo\n"
     ]
    }
   ],
   "source": [
    "numero_a, numero_b, numero_c = 10, 20, -5\n",
    "\n",
    "if ((numero_a%2 == 0) and (numero_a > 0)):\n",
    "    if numero_a < numero_b:\n",
    "        print('El número_a es par y positivo y es menor que numero_b')\n",
    "        if numero_c == 0:\n",
    "            print('El número_c es cero')\n",
    "        elif numero_c>0:\n",
    "            print('El número_c es positivo')\n",
    "        else:\n",
    "            print('El número_c es negativo')\n",
    "    else:\n",
    "        print('El número_a es par y positivo y es mayor que numero_b')\n",
    "else:\n",
    "    print('El número_a no es par pero si positivo')\n",
    "\n",
    "#Al igual que las condiciones se recomienda no usar mas de tres if anidados, esto por buenas prácticas y\n",
    "#el código será muy lento\n",
    "\n",
    "#Si ven o programan algo que tiene más de tres ifs anidados, el código está mal, aunque funcione"
   ]
  },
  {
   "cell_type": "markdown",
   "metadata": {},
   "source": [
    "#### Nivel 3.1: Ciclos for\n",
    "Un ciclo \"for\" en Python es como un contador. Imagina que estás contando del 1 al 10 con un dedo. Cada vez que das un paso en el contador, puedes hacer algo, como decir el número en voz alta. En Python, en lugar de contar con los dedos, usamos un ciclo \"for\" para repetir una acción varias veces. Cada vez que el ciclo \"for\" da un paso, podemos hacer algo, como imprimir un número en la pantalla. Es una manera fácil de hacer algo muchas veces sin tener que escribir el mismo código una y otra vez.\n",
    "\n",
    "El ciclo for se escribe de la siguiente forma:\n",
    "\n",
    "``` python\n",
    "for nombre_variable_iteradora in objeto_iterable:\n",
    "    Código a ejecutar\n",
    "```\n",
    "\n",
    "El código a ejecutare se encuentra indentado, como en los condicionales. El objeto iterable puede ser una lista, un rango, un string, etc., es algo que contiene elementos. La variable iteradora es una variable que toma el valor de cada elemento del objeto iterable en cada iteración.\n",
    "\n",
    "La palabra reservada in permite realizar la iteración sobre los objetos del objeto iterable y se traduce tal cual \"en\".\n",
    "\n",
    "La traducción final sería: \"Para cada elemento del objeto iterable, haz esto\"."
   ]
  },
  {
   "cell_type": "code",
   "execution_count": 27,
   "metadata": {},
   "outputs": [
    {
     "name": "stdout",
     "output_type": "stream",
     "text": [
      "[0, 1, 2, 3, 4, 5, 6, 7, 8, 9]\n",
      "<class 'list'>\n"
     ]
    }
   ],
   "source": [
    "# objeto iterable: lista del 0 al 20\n",
    "iterable = list(range(10))\n",
    "print(iterable)\n",
    "print(type(iterable))"
   ]
  },
  {
   "cell_type": "code",
   "execution_count": 28,
   "metadata": {},
   "outputs": [
    {
     "name": "stdout",
     "output_type": "stream",
     "text": [
      "True\n",
      "False\n"
     ]
    }
   ],
   "source": [
    "# veamos que hace in, usando la lista \"iterable\"\n",
    "print(0 in iterable)\n",
    "print(10 in iterable)\n",
    "\n",
    "#en escencia da un valor booleano, si el elemento está en la lista o no"
   ]
  },
  {
   "cell_type": "code",
   "execution_count": 29,
   "metadata": {},
   "outputs": [
    {
     "name": "stdout",
     "output_type": "stream",
     "text": [
      "0\n",
      "1\n",
      "2\n",
      "3\n",
      "4\n",
      "5\n",
      "6\n",
      "7\n",
      "8\n",
      "9\n"
     ]
    }
   ],
   "source": [
    "# ciclo for para iterar sobre una lista y ver que valores toma la variable iteradora (i)\n",
    "for i in iterable:\n",
    "    print(i)"
   ]
  },
  {
   "cell_type": "code",
   "execution_count": 30,
   "metadata": {},
   "outputs": [
    {
     "name": "stdout",
     "output_type": "stream",
     "text": [
      "10\n"
     ]
    }
   ],
   "source": [
    "# for para incrementar un contador\n",
    "contador = 0\n",
    "for i in iterable:\n",
    "    contador += 1\n",
    "print(contador)"
   ]
  },
  {
   "cell_type": "code",
   "execution_count": 31,
   "metadata": {},
   "outputs": [
    {
     "name": "stdout",
     "output_type": "stream",
     "text": [
      "i=0, j=0\n",
      "i=0, j=2\n",
      "i=0, j=4\n",
      "i=0, j=6\n",
      "i=0, j=8\n",
      "i=2, j=0\n",
      "i=2, j=2\n",
      "i=2, j=4\n",
      "i=2, j=6\n",
      "i=2, j=8\n",
      "i=4, j=0\n",
      "i=4, j=2\n",
      "i=4, j=4\n",
      "i=4, j=6\n",
      "i=4, j=8\n"
     ]
    }
   ],
   "source": [
    "#otras operaciones más relevantes pueden realizarse en los ciclos for, pero eso lo veremos más adelante\n",
    "#Tambien se pueden anidar los ciclos for, tratando de que las variables iterables no posean el mismo nombre\n",
    "for i in range(0,5,2):\n",
    "    for j in range(0,10,2):\n",
    "        print(f'i={i}, j={j}')"
   ]
  },
  {
   "cell_type": "markdown",
   "metadata": {},
   "source": [
    "**Teorema: Si ven o programan algo que tiene más de tres ifs o fors anidados, el código está mal, aunque funcione**\n",
    "\n",
    "Demostración: se deja al lector"
   ]
  },
  {
   "cell_type": "markdown",
   "metadata": {},
   "source": [
    "#### Nivel 3.2: Ciclos while\n",
    "\n",
    "Un ciclo \"while\" en Python es como una advertencia. Imagina que estás jugando al escondite, y tu mamá te dijo que debes volver a casa antes de que oscurezca. Mientras juegas, miras el reloj para asegurarte de que todavía tienes tiempo antes de que oscurezca. En Python, en lugar de mirar el reloj, usamos un ciclo \"while\" para repetir una acción mientras cierta condición es verdadera. Cada vez que el ciclo \"while\" comprueba la condición, si es verdadera, hace algo, como imprimir un número en la pantalla. Es una manera de hacer algo muchas veces mientras se cumpla una cierta condicion, no importa cuantas veces sea necesario y sin tener que escribir el mismo código una y otra vez.\n",
    "\n",
    "El ciclo while se escribe de la siguiente forma:\n",
    "\n",
    "``` python\n",
    "while condicion(es):\n",
    "    Código a ejecutar\n",
    "```\n",
    "\n",
    "El código a ejecutare se encuentra indentado, como en los condicionales. Las condiciones son operadores booleanos como antes.\n",
    "\n",
    "La traducción final sería: \"Mientras la condición se cumpla, haz esto\"."
   ]
  },
  {
   "cell_type": "code",
   "execution_count": 32,
   "metadata": {},
   "outputs": [
    {
     "name": "stdout",
     "output_type": "stream",
     "text": [
      "0\n",
      "1\n",
      "2\n",
      "3\n",
      "4\n",
      "5\n"
     ]
    }
   ],
   "source": [
    "#ejemplo\n",
    "contador = 0\n",
    "while contador <=5:\n",
    "    print(contador)\n",
    "    contador += 1"
   ]
  },
  {
   "cell_type": "code",
   "execution_count": 33,
   "metadata": {},
   "outputs": [
    {
     "name": "stdout",
     "output_type": "stream",
     "text": [
      "El cuadrado de 3 es 9\n",
      "El cuadrado de 5 es 25\n",
      "El cuadrado de 9 es 81\n"
     ]
    }
   ],
   "source": [
    "# Otro ejemplo\n",
    "while True:\n",
    "    valor = input('Ingresa un numero entero, presiona q para salir')\n",
    "\n",
    "    if valor=='q':\n",
    "        #break rompe el ciclo, es decir sale del ciclo\n",
    "        break\n",
    "\n",
    "    valor = int(valor)\n",
    "\n",
    "    if valor%2 == 0:\n",
    "        #continue salta la iteración actual y continua con la siguiente\n",
    "        continue\n",
    "\n",
    "    print(\"El cuadrado de {} es {}\".format(valor, valor**2))\n"
   ]
  },
  {
   "cell_type": "markdown",
   "metadata": {},
   "source": [
    "#### Nivel 4.1: Listas\n",
    "Una lista en Python es como una caja de juguetes. Imagina que tienes una caja llena de juguetes, cada juguete es un objeto distinto, como una muñeca, un carro o un balón. En Python, en lugar de una caja de juguetes, tenemos una lista que contiene diferentes objetos, como números, letras o incluso otras listas.\n",
    "Podemos agregar cosas a la lista, quitar cosas de la lista, o incluso cambiar las cosas en la lista. También podemos buscar cosas específicas en la lista, o contar cuántas cosas hay en la lista. Es una manera de organizar y guardar diferentes cosas juntas en nuestro programa de Python.\n",
    "\n",
    "Podemos crear una lista en python de diferentes maneras."
   ]
  },
  {
   "cell_type": "code",
   "execution_count": 34,
   "metadata": {},
   "outputs": [
    {
     "name": "stdout",
     "output_type": "stream",
     "text": [
      "<class 'list'>\n",
      "[1, 2, 3]\n"
     ]
    }
   ],
   "source": [
    "#crea una lista vacía\n",
    "lista = []\n",
    "print(type(lista))\n",
    "#agrega elementos a dicha lista\n",
    "lista.append(1)\n",
    "lista.append(2)\n",
    "lista.append(3)\n",
    "print(lista)"
   ]
  },
  {
   "cell_type": "code",
   "execution_count": 35,
   "metadata": {},
   "outputs": [
    {
     "name": "stdout",
     "output_type": "stream",
     "text": [
      "[1, 2, 3, 4, 5, 'perro', ['manzana', 6, 7, 8], 9]\n"
     ]
    }
   ],
   "source": [
    "# crea una lista con elementos\n",
    "lista = [1,2,3,4,5, 'perro', ['manzana', 6,7,8],9]\n",
    "print(lista)"
   ]
  },
  {
   "cell_type": "code",
   "execution_count": 36,
   "metadata": {},
   "outputs": [
    {
     "name": "stdout",
     "output_type": "stream",
     "text": [
      "[3, 3, 3, 3, 3, 3, 3, 3, 3, 3]\n"
     ]
    }
   ],
   "source": [
    "# otra forma de crear una lista es como sigue:\n",
    "lista = [3] * 10\n",
    "print(lista)"
   ]
  },
  {
   "cell_type": "code",
   "execution_count": 37,
   "metadata": {},
   "outputs": [
    {
     "name": "stdout",
     "output_type": "stream",
     "text": [
      "[0, 2, 4, 6, 8, 10, 12, 14, 16, 18]\n"
     ]
    }
   ],
   "source": [
    "# podemos crear una lista con un rango de valores\n",
    "lista = list(range(0,20,2))\n",
    "print(lista)"
   ]
  },
  {
   "cell_type": "code",
   "execution_count": 38,
   "metadata": {},
   "outputs": [
    {
     "name": "stdout",
     "output_type": "stream",
     "text": [
      "10\n"
     ]
    }
   ],
   "source": [
    "# ¿Cuántos elementos tiene la lista?\n",
    "print(len(lista))"
   ]
  },
  {
   "cell_type": "code",
   "execution_count": 39,
   "metadata": {},
   "outputs": [
    {
     "name": "stdout",
     "output_type": "stream",
     "text": [
      "0\n",
      "2\n",
      "4\n",
      "12\n"
     ]
    }
   ],
   "source": [
    "# ¿Cómo accedemos a los elementos de la lista?\n",
    "print(lista[0])\n",
    "print(lista[1])\n",
    "print(lista[2])\n",
    "print(lista[6])"
   ]
  },
  {
   "cell_type": "code",
   "execution_count": 40,
   "metadata": {},
   "outputs": [
    {
     "name": "stdout",
     "output_type": "stream",
     "text": [
      "[6, 8, 10, 12]\n",
      "[0, 2, 4]\n",
      "[14, 16, 18]\n"
     ]
    }
   ],
   "source": [
    "# Quiero una lista tal que [6,8,10,12] a partir de la lista anterior\n",
    "# Se usa el concepto de slicing\n",
    "lista_de_lista = lista[3:7]\n",
    "print(lista_de_lista)\n",
    "\n",
    "# Quiero una lista con los primeros 3 elementos\n",
    "lista_de_lista = lista[:3] # es válido también lista[0:3]\n",
    "print(lista_de_lista)\n",
    "\n",
    "# Quiero una lista con los últimos 3 elementos\n",
    "lista_de_lista = lista[-3:] # es válido también lista[7:10]\n",
    "print(lista_de_lista)"
   ]
  },
  {
   "cell_type": "markdown",
   "metadata": {},
   "source": [
    "Para comprender como funciona el Slicing aquí está el tutorial generalizado\n",
    "* [ : ] - Extrae todo el contenido de la lista\n",
    "* [inicio : ] - Especifica el inicio de la lista y extrae todo el contenido hasta el final\n",
    "* [ : fin] - Especifica el final de la lista y extrae todo el contenido desde el inicio, menos el elemento en la posición fin\n",
    "* [inicio : fin] - Especifica el inicio y el final de la lista y extrae todo el contenido entre ellos menos el elemento en la posición fin\n",
    "* [inicio : fin : paso] - Especifica el inicio y el final de la lista y extrae todo el contenido entre ellos, pero con un paso especificado"
   ]
  },
  {
   "cell_type": "code",
   "execution_count": 41,
   "metadata": {},
   "outputs": [
    {
     "name": "stdout",
     "output_type": "stream",
     "text": [
      "[0, 2, 4, 6, 8, 10, 12, 14, 16, 18]\n",
      "[0, 2, 4, 6, 8, 10, 12, 16, 18]\n",
      "[4, 6, 8, 10, 12, 16, 18]\n"
     ]
    }
   ],
   "source": [
    "# Para eliminar un elemento de la lista puede usarse la función del\n",
    "print(lista)\n",
    "del lista[-3]\n",
    "print(lista)\n",
    "#tambien puede usarse el slicing para eliminar varios elementos\n",
    "del lista[0:2]\n",
    "print(lista)"
   ]
  },
  {
   "cell_type": "code",
   "execution_count": 42,
   "metadata": {},
   "outputs": [
    {
     "name": "stdout",
     "output_type": "stream",
     "text": [
      "[0, 2, 4, 6, 8, 10, 12, 14, 16, 18]\n"
     ]
    }
   ],
   "source": [
    "# Para insertar elementos en una posición definida se usa insert()\n",
    "lista.insert(0, 0)\n",
    "lista.insert(1, 2)\n",
    "lista.insert(7, 14)\n",
    "print(lista)"
   ]
  },
  {
   "cell_type": "code",
   "execution_count": 43,
   "metadata": {},
   "outputs": [
    {
     "name": "stdout",
     "output_type": "stream",
     "text": [
      "[1, 2, 4, 6, 8, 10, 12, 'replaced 1', 'replaced 2', 'replaced 3']\n"
     ]
    }
   ],
   "source": [
    "# Para modificar el valor de algunos elementos\n",
    "lista[0] = 1 #cambia solo el valor en la posicion 0\n",
    "lista[-3:] = ['replaced 1', 'replaced 2', 'replaced 3'] #cambia varios usando slicing\n",
    "print(lista)"
   ]
  },
  {
   "cell_type": "code",
   "execution_count": 44,
   "metadata": {},
   "outputs": [
    {
     "name": "stdout",
     "output_type": "stream",
     "text": [
      "lista después de pop(): [1, 2, 4, 6, 8, 10, 12, 'replaced 1', 'replaced 2'], elemento extraído: replaced 3\n"
     ]
    }
   ],
   "source": [
    "# obtiene y elimina el último elemento de la lista pop()\n",
    "ultimo_elemento = lista.pop()\n",
    "print(\"lista después de pop(): {}, elemento extraído: {}\".format(lista, ultimo_elemento))\n",
    "#este método puede aplicarse iterativamente hasta terminar con una lista vacía"
   ]
  },
  {
   "cell_type": "code",
   "execution_count": 45,
   "metadata": {},
   "outputs": [
    {
     "name": "stdout",
     "output_type": "stream",
     "text": [
      "False\n",
      "True\n"
     ]
    }
   ],
   "source": [
    "# Quiero saber si un elemento está en la lista, para ello usamos in\n",
    "print(0 in lista)\n",
    "print(10 in lista)"
   ]
  },
  {
   "cell_type": "code",
   "execution_count": 46,
   "metadata": {},
   "outputs": [
    {
     "name": "stdout",
     "output_type": "stream",
     "text": [
      "5\n"
     ]
    }
   ],
   "source": [
    "# Ahora quiero saber en qué posición está un elemento\n",
    "print(lista.index(10))\n",
    "# Si el elemento no está en la lista, se genera un error"
   ]
  },
  {
   "cell_type": "code",
   "execution_count": 47,
   "metadata": {},
   "outputs": [
    {
     "name": "stdout",
     "output_type": "stream",
     "text": [
      "naranja\n",
      "manzana\n",
      "pera\n",
      "uva\n",
      "sandía\n"
     ]
    }
   ],
   "source": [
    "#Las listas son objetos iterables, por lo que pueden usarse en ciclos for\n",
    "lista = ['naranja', 'manzana', 'pera', 'uva', 'sandía']\n",
    "for fruta in lista:\n",
    "    print(fruta)"
   ]
  },
  {
   "cell_type": "code",
   "execution_count": 48,
   "metadata": {},
   "outputs": [
    {
     "name": "stdout",
     "output_type": "stream",
     "text": [
      "[0, 4, 16, 36, 64, 100, 144, 196, 256, 324, 400]\n",
      "[0, 4, 16, 36, 64, 100, 144, 196, 256, 324, 400]\n",
      "\n",
      "******************** Ejemplo 2 ********************\n",
      "\n",
      "[0, 1, 2, 3, 4, 5, 6, 7, 8, 9, 10, 11, 12, 13, 14, 15, 16, 17, 18, 19, 20]\n",
      "[1, 3, 5, 7, 9, 11, 13, 15, 17, 19]\n"
     ]
    }
   ],
   "source": [
    "# Listas comprensivas, las listas comprensivas permiten generar listas a partir de otras listas o iterables\n",
    "# son especialmente útiles por su simplicidad y eficiencia, ya que puede evitar el uso de ciclos for\n",
    "# sintaxis: [expresion for elemento in iterable if condicion(es)]\n",
    "# ejemplo: quiero una lista con los cuadrados de los números pares del 0 al 20\n",
    "lista = [i**2 for i in range(21) if i%2==0]\n",
    "print(lista)\n",
    "\n",
    "# Una solución más dummy, pero equivalente para el problema anterior sería:\n",
    "lista_dummy = []\n",
    "for i in range(21):\n",
    "    if i%2==0:\n",
    "        lista_dummy.append(i**2)\n",
    "print(lista_dummy)\n",
    "\n",
    "\n",
    "print('\\n'+'*'*20+' Ejemplo 2 '+('*'*20)+'\\n')\n",
    "# Supongamos que tenemos una lista del 0 al 20 y queremos una lista que solo tenga impares\n",
    "lista = list(range(21))\n",
    "print(lista)\n",
    "lista = [i for i in lista if i%2!=0]\n",
    "print(lista)\n"
   ]
  },
  {
   "cell_type": "markdown",
   "metadata": {},
   "source": [
    "#### Nivel 4.2: Diccionarios\n",
    "Un diccionario en Python es como un álbum de pegatinas. Imagina que tienes un álbum de pegatinas con diferentes secciones para diferentes temas, como animales, deportes y vehículos. Cada sección tiene varias pegatinas, cada una con un nombre diferente. En Python, en lugar de un álbum de pegatinas, tenemos un diccionario que contiene diferentes valores, y cada valor tiene un nombre específico.\n",
    "Puedes buscar cosas específicas en el diccionario, o agregar cosas nuevas al diccionario. Es una manera de organizar y guardar diferentes cosas juntas en nuestro programa de Python, usando pares clave-valor.\n",
    "\n",
    "En un diccionario las llaves son únicas."
   ]
  },
  {
   "cell_type": "code",
   "execution_count": 49,
   "metadata": {},
   "outputs": [
    {
     "name": "stdout",
     "output_type": "stream",
     "text": [
      "<class 'dict'>\n"
     ]
    }
   ],
   "source": [
    "# Un diccionario vacío se crea de la siguiente manera\n",
    "dic = {}\n",
    "print(type(dic))"
   ]
  },
  {
   "cell_type": "code",
   "execution_count": 50,
   "metadata": {},
   "outputs": [
    {
     "name": "stdout",
     "output_type": "stream",
     "text": [
      "{'nombre': 'Firulais', 'apellido': 'González', 'edad': 5, 'raza': 'Pastor Alemán'}\n"
     ]
    }
   ],
   "source": [
    "# Puede crearse de forma manual o tradicional\n",
    "dic = {'nombre': 'Firulais', 'apellido': 'González', 'edad': 5, 'raza': 'Pastor Alemán'}\n",
    "print(dic)"
   ]
  },
  {
   "cell_type": "code",
   "execution_count": 51,
   "metadata": {},
   "outputs": [
    {
     "name": "stdout",
     "output_type": "stream",
     "text": [
      "{'nombre': 'Firulais', 'apellido': 'González', 'edad': 5, 'raza': 'Pastor Alemán'}\n"
     ]
    }
   ],
   "source": [
    "# Tambien puede crearse a partir de la función dict()\n",
    "dic = dict(nombre='Firulais', apellido='González', edad=5, raza='Pastor Alemán')\n",
    "print(dic)"
   ]
  },
  {
   "cell_type": "code",
   "execution_count": 52,
   "metadata": {},
   "outputs": [
    {
     "name": "stdout",
     "output_type": "stream",
     "text": [
      "[['numero entero', 1], ['numero flotante', 1.0], ['cadena', 'hola'], ['lista', [1, 2, 3]], ['diccionario', {'nombre': 'Firulais', 'apellido': 'González', 'edad': 5, 'raza': 'Pastor Alemán'}]]\n",
      "{'numero entero': 1, 'numero flotante': 1.0, 'cadena': 'hola', 'lista': [1, 2, 3], 'diccionario': {'nombre': 'Firulais', 'apellido': 'González', 'edad': 5, 'raza': 'Pastor Alemán'}}\n"
     ]
    }
   ],
   "source": [
    "# Es posible convertir cualquier par de secuencias en un diccionario (como una lista de listas)\n",
    "# el primer elemento será la clave o llave y el segundo será el valor asociado a dicha llave\n",
    "lista = [['numero entero', 1], ['numero flotante', 1.0], ['cadena', 'hola'], ['lista', [1,2,3]], \\\n",
    "    ['diccionario', {'nombre': 'Firulais', 'apellido': 'González', 'edad': 5, 'raza': 'Pastor Alemán'}]]\n",
    "\n",
    "print(lista)\n",
    "\n",
    "dic = dict(lista)\n",
    "\n",
    "print(dic)"
   ]
  },
  {
   "cell_type": "code",
   "execution_count": 53,
   "metadata": {},
   "outputs": [
    {
     "name": "stdout",
     "output_type": "stream",
     "text": [
      "{'numero entero': 1, 'numero flotante': 1.0, 'cadena': 'hola', 'lista': [1, 2, 3], 'diccionario': {'nombre': 'Firulais', 'apellido': 'González', 'edad': 5, 'raza': 'Pastor Alemán'}, 'color': 'azul verdoso'}\n"
     ]
    }
   ],
   "source": [
    "# Pueden agregarse un par de llave-valor de la siguiente manera\n",
    "dic['color'] = 'azul verdoso'\n",
    "print(dic)"
   ]
  },
  {
   "cell_type": "code",
   "execution_count": 54,
   "metadata": {},
   "outputs": [
    {
     "name": "stdout",
     "output_type": "stream",
     "text": [
      "{'numero entero': 1, 'numero flotante': 1.0, 'cadena': 'hola', 'lista': [1, 2, 3], 'diccionario': {}, 'color': 'azul verdoso'}\n"
     ]
    }
   ],
   "source": [
    "# Para modificar el valor de una llave se usa el concepto anterior\n",
    "dic['diccionario'] = {}\n",
    "print(dic)"
   ]
  },
  {
   "cell_type": "code",
   "execution_count": 55,
   "metadata": {},
   "outputs": [
    {
     "name": "stdout",
     "output_type": "stream",
     "text": [
      "1\n",
      "1\n",
      "None\n"
     ]
    }
   ],
   "source": [
    "# Para obtener un valor a partir de una llave podemos hacer\n",
    "print(dic['numero entero'])\n",
    "# Si la llave no existe, se genera un error\n",
    "# o bien\n",
    "print(dic.get('numero entero'))\n",
    "# Si la llave no existe, se obtiene None\n",
    "print(dic.get('Persona'))"
   ]
  },
  {
   "cell_type": "code",
   "execution_count": 56,
   "metadata": {},
   "outputs": [
    {
     "name": "stdout",
     "output_type": "stream",
     "text": [
      "dict_keys(['numero entero', 'numero flotante', 'cadena', 'lista', 'diccionario', 'color'])\n",
      "dict_values([1, 1.0, 'hola', [1, 2, 3], {}, 'azul verdoso'])\n",
      "dict_items([('numero entero', 1), ('numero flotante', 1.0), ('cadena', 'hola'), ('lista', [1, 2, 3]), ('diccionario', {}), ('color', 'azul verdoso')])\n"
     ]
    }
   ],
   "source": [
    "# Para obtener todas las llaves del diccionario se usa keys()\n",
    "print(dic.keys())\n",
    "# Para obtener todos los valores del diccionario se usa values()\n",
    "print(dic.values())\n",
    "# Para obtener todos los pares llave-valor se usa items()\n",
    "print(dic.items())"
   ]
  },
  {
   "cell_type": "code",
   "execution_count": 57,
   "metadata": {},
   "outputs": [
    {
     "name": "stdout",
     "output_type": "stream",
     "text": [
      "6\n"
     ]
    }
   ],
   "source": [
    "# Para saber la longitud de un diccionario se usa len()\n",
    "print(len(dic))"
   ]
  },
  {
   "cell_type": "code",
   "execution_count": 58,
   "metadata": {},
   "outputs": [
    {
     "name": "stdout",
     "output_type": "stream",
     "text": [
      "{'numero flotante': 1.0, 'cadena': 'hola', 'lista': [1, 2, 3], 'diccionario': {}, 'color': 'azul verdoso'}\n",
      "diccionario después de pop(): {'cadena': 'hola', 'lista': [1, 2, 3], 'diccionario': {}, 'color': 'azul verdoso'}, elemento extraído: 1.0\n"
     ]
    }
   ],
   "source": [
    "# Para eliminar un par llave-valor se usa del\n",
    "del dic['numero entero']\n",
    "print(dic)\n",
    "# Tambien funciona el método pop, solo que en esta ocasión debe colocarse la llave como argumento\n",
    "poped = dic.pop('numero flotante')\n",
    "print(\"diccionario después de pop(): {}, elemento extraído: {}\".format(dic, poped))"
   ]
  },
  {
   "cell_type": "markdown",
   "metadata": {},
   "source": [
    "El método in también funciona, pero solo para las llaves. nombre_llave in nombre_diccionario, regresara un valor booleano. Por ende el diccionario es tambien un iterable y puede aplicarse ciclos for.\n",
    "\n",
    "Si se quiere iterar sobre los valores se puede usar el método values(), lo mismo para items()."
   ]
  },
  {
   "cell_type": "code",
   "execution_count": 59,
   "metadata": {},
   "outputs": [
    {
     "name": "stdout",
     "output_type": "stream",
     "text": [
      "La cantidad de veces que aparece la letra t en la palabra 'letters' es 2\n",
      "{'l': 1, 'e': 2, 't': 2, 'r': 1}\n"
     ]
    }
   ],
   "source": [
    "# Diccionarios comprensivos, son similares a las listas comprensivas, pero resulta un diccionario\n",
    "# veamos un ejemplo\n",
    "palabra = 'letters'\n",
    "print(f\"La cantidad de veces que aparece la letra t en la palabra 'letters' es {palabra.count('t')}\")\n",
    "\n",
    "letter_counts_dict = {letter: palabra.count(letter) for letter in palabra if letter != 's'}\n",
    "print(letter_counts_dict)"
   ]
  },
  {
   "attachments": {
    "mr_increible_meme.jpeg": {
     "image/jpeg": "[encoded data removed]"
    }
   },
   "cell_type": "markdown",
   "metadata": {},
   "source": [
    "#### Nivel 5: Funciones\n",
    "\n",
    "![mr_increible_meme.jpeg](attachment:mr_increible_meme.jpeg)\n",
    "\n",
    "Todos los ejemplos anteriores de código han sido pequeños fragmentos. Éstos son buenos para pequeñas tareas, pero nadie quiere volver a escribir fragmentos todo el tiempo. Se necesita alguna forma de organizar código más grande en piezas manejables y relativamente pequeñas.\n",
    "\n",
    "El primer paso para la reutilización de código es la **función**, la cual es una pieza de código con nombre, separada de todas las demás. Una función puede recibir cualquier número y tipo de parámetros de entrada y devolver cualquier número y tipo de resultados de salida. Las funciones son una de las herramientas más poderosas de la programación, ya que permiten que el código sea reutilizable y modular.\n",
    "\n",
    "Una función se define con la palabra reservada **def**. La sintaxis es la siguiente:\n",
    "\n",
    "```python\n",
    "def nombre_funcion(parametros):\n",
    "    # Código de la función\n",
    "    return resultado\n",
    "```"
   ]
  },
  {
   "cell_type": "code",
   "execution_count": 60,
   "metadata": {},
   "outputs": [],
   "source": [
    "# Mi_primer_funcion.jpg. Esta funcion no hace nada pero lo hace muy bien (como el profe)\n",
    "def do_nothing():\n",
    "    pass"
   ]
  },
  {
   "cell_type": "code",
   "execution_count": 61,
   "metadata": {},
   "outputs": [],
   "source": [
    "do_nothing()"
   ]
  },
  {
   "cell_type": "markdown",
   "metadata": {},
   "source": [
    "¿Qué hizo? ¿Qué paso?\n",
    "\n",
    "Una función en python es análoga a una funcion $f: \\mathbb{R}^{N} \\rightarrow \\mathbb{R}^{M}$ donde $N$ es el número de parámetros de entrada y $M$ es la dimensión del objeto de salida."
   ]
  },
  {
   "cell_type": "code",
   "execution_count": 62,
   "metadata": {},
   "outputs": [
    {
     "name": "stdout",
     "output_type": "stream",
     "text": [
      "Hola mundo\n"
     ]
    }
   ],
   "source": [
    "# Funciones con argumentos, Función R^1 -> R^0\n",
    "# Esta función recibe un argumento y no devuelve nada\n",
    "def imprime_mensaje(mensaje):\n",
    "    print(mensaje)\n",
    "\n",
    "imprime_mensaje('Hola mundo')"
   ]
  },
  {
   "cell_type": "code",
   "execution_count": 63,
   "metadata": {},
   "outputs": [
    {
     "name": "stdout",
     "output_type": "stream",
     "text": [
      "Acabé de sumar dos números\n"
     ]
    }
   ],
   "source": [
    "# Dentro de una función se pueden definir variables locales, es decir, variables que solo existen dentro de la función\n",
    "# y operar sobre ellos, observa el siguiente ejemplo\n",
    "def suma_dummy():\n",
    "    a = 1\n",
    "    b = 2\n",
    "    c = a + b\n",
    "    print('Acabé de sumar dos números')\n",
    "    return c\n",
    "\n",
    "valor_suma_dummy = suma_dummy()"
   ]
  },
  {
   "cell_type": "code",
   "execution_count": 64,
   "metadata": {},
   "outputs": [
    {
     "name": "stdout",
     "output_type": "stream",
     "text": [
      "3\n"
     ]
    }
   ],
   "source": [
    "# ¿Qué pasó con las variables a, b, c? ¿Se eliminaron? ¿Se pueden usar fuera de la función?\n",
    "# ¿Y la sentencia return c qué hizo?\n",
    "print(valor_suma_dummy)\n",
    "#print(a, b, c)\n",
    "# descomenta la linea anterior, ejecuta la celda y observa que pasa"
   ]
  },
  {
   "cell_type": "markdown",
   "metadata": {},
   "source": [
    "Las variables a, b y c son variables locales a la función, es decir, solo existen dentro de la función. Si se intenta acceder a ellas fuera de la función, se generará un error. Es decir, las variables locales no son visibles fuera de la función y son eliminadas cuando la función termina de hacer su trabajo."
   ]
  },
  {
   "cell_type": "code",
   "execution_count": 65,
   "metadata": {},
   "outputs": [
    {
     "name": "stdout",
     "output_type": "stream",
     "text": [
      "[100, 2, 3, 4, 5]\n",
      "1\n"
     ]
    }
   ],
   "source": [
    "# Este es un comportamiento raro\n",
    "def cambia_valor_lista(lista):\n",
    "    lista[0] = 100\n",
    "    a = lista[0]\n",
    "    return None\n",
    "\n",
    "lista_entrada = [1,2,3,4,5]\n",
    "cambia_valor_lista(lista_entrada)\n",
    "print(lista_entrada)\n",
    "\n",
    "# Pero si hacemos lo siguiente:\n",
    "def cambia_valor_numero(numero):\n",
    "    numero = 100\n",
    "    return None\n",
    "\n",
    "numero_entrada = 1\n",
    "cambia_valor_numero(numero_entrada)\n",
    "print(numero_entrada)"
   ]
  },
  {
   "cell_type": "markdown",
   "metadata": {},
   "source": [
    "¿Qué paso? Recuerda la definición de mutabilidad e inmutabilidad y las variables locales"
   ]
  },
  {
   "cell_type": "code",
   "execution_count": 66,
   "metadata": {},
   "outputs": [
    {
     "name": "stdout",
     "output_type": "stream",
     "text": [
      "3\n"
     ]
    }
   ],
   "source": [
    "# Una función puede acceder a variables globales, es decir variables que están definidas fuera de la función\n",
    "# pero no se recomienda hacerlo, ya que puede generar comportamientos inesperados\n",
    "# veamos un ejemplo\n",
    "a = 1\n",
    "b = 2\n",
    "def suma():\n",
    "    c = a + b\n",
    "    return c\n",
    "\n",
    "print(suma())"
   ]
  },
  {
   "cell_type": "markdown",
   "metadata": {},
   "source": [
    "Una función puede contener más de un parámetro de entrada."
   ]
  },
  {
   "cell_type": "code",
   "execution_count": 67,
   "metadata": {},
   "outputs": [
    {
     "name": "stdout",
     "output_type": "stream",
     "text": [
      "{'La sopa de hoy es': 'sopa de tortilla', 'El plato fuerte de hoy es': 'tacos de carne asada', 'El postre de hoy es': 'gelatina de limón', 'El costo de la comida es en pesos': 100, 'El sabor del agua de hoy es': 'limón'}\n"
     ]
    }
   ],
   "source": [
    "def menu_de_hoy(sabor_agua, sopa, plato_fuerte, postre, costo):\n",
    "    return {'La sopa de hoy es': sopa, 'El plato fuerte de hoy es': plato_fuerte, 'El postre de hoy es': postre, \\\n",
    "        'El costo de la comida es en pesos': costo, 'El sabor del agua de hoy es': sabor_agua}\n",
    "\n",
    "fonda_chonita = menu_de_hoy('limón', 'sopa de tortilla', 'tacos de carne asada', 'gelatina de limón', 100)\n",
    "print(fonda_chonita)"
   ]
  },
  {
   "cell_type": "code",
   "execution_count": 68,
   "metadata": {},
   "outputs": [
    {
     "name": "stdout",
     "output_type": "stream",
     "text": [
      "{'La sopa de hoy es': 'Verduras', 'El plato fuerte de hoy es': 'Tacos dorados', 'El postre de hoy es': 'No hay', 'El costo de la comida es en pesos': 80, 'El sabor del agua de hoy es': 'Fresa'}\n"
     ]
    }
   ],
   "source": [
    "def menu_de_hoy(sabor_agua='Fresa', sopa='Verduras', plato_fuerte='Tacos dorados', postre='No hay', costo=80):\n",
    "    return {'La sopa de hoy es': sopa, 'El plato fuerte de hoy es': plato_fuerte, 'El postre de hoy es': postre, \\\n",
    "        'El costo de la comida es en pesos': costo, 'El sabor del agua de hoy es': sabor_agua}\n",
    "\n",
    "fonda_chonita = menu_de_hoy()\n",
    "print(fonda_chonita)"
   ]
  },
  {
   "cell_type": "markdown",
   "metadata": {},
   "source": [
    "La primera forma de definir los parámetros se conoce como **parámetros posicionales**. Esto significa que los parámetros se asignan a los argumentos en el orden en que se pasan. Por ejemplo, si tenemos una función que toma dos parámetros, el primer parámetro se asigna al primer argumento, el segundo parámetro se asigna al segundo argumento, y así sucesivamente.\n",
    "\n",
    "La segunda forma de definir los parámetros se conoce como **parámetros nombrados**. Esto significa que los parámetros se asignan a los argumentos de forma preestablecida, en caso de no pasar uno o varios parametros se asigna el valor por defecto. Aquí no es necesario pasar los argumentos en el orden en que se definen los parámetros, pero si con el nombre del parámetro."
   ]
  },
  {
   "cell_type": "code",
   "execution_count": 69,
   "metadata": {},
   "outputs": [
    {
     "name": "stdout",
     "output_type": "stream",
     "text": [
      "{'La sopa de hoy es': 'Verduras', 'El plato fuerte de hoy es': 'Quesadillas', 'El postre de hoy es': 'Flan', 'El costo de la comida es en pesos': 60, 'El sabor del agua de hoy es': 'Fresa'}\n"
     ]
    }
   ],
   "source": [
    "fonda_chonita = menu_de_hoy(plato_fuerte='Quesadillas', postre='Flan', costo=60)\n",
    "print(fonda_chonita)"
   ]
  },
  {
   "cell_type": "markdown",
   "metadata": {},
   "source": [
    "Pueden combinarse ambas formas de definir los parámetros. Siempre y cuando el o los parámetro posicionales se encuentren antes de los nombrados."
   ]
  },
  {
   "cell_type": "code",
   "execution_count": 70,
   "metadata": {},
   "outputs": [
    {
     "name": "stdout",
     "output_type": "stream",
     "text": [
      "{'La sopa de hoy es': 'sopa de tortilla', 'El plato fuerte de hoy es': 'tacos de carne asada', 'El postre de hoy es': 'No hay', 'El costo de la comida es en pesos': 150, 'El sabor del agua de hoy es': 'limón'}\n"
     ]
    }
   ],
   "source": [
    "def menu_de_hoy(sabor_agua, sopa, plato_fuerte, postre='No hay', costo=80):\n",
    "    return {'La sopa de hoy es': sopa, 'El plato fuerte de hoy es': plato_fuerte, 'El postre de hoy es': postre, \\\n",
    "        'El costo de la comida es en pesos': costo, 'El sabor del agua de hoy es': sabor_agua}\n",
    "\n",
    "fonda_chonita = menu_de_hoy('limón', 'sopa de tortilla', 'tacos de carne asada', costo=150)\n",
    "print(fonda_chonita)"
   ]
  },
  {
   "cell_type": "markdown",
   "metadata": {},
   "source": [
    "No hay una regla específica para definir los parámetros, pero recuerda que debes seguir las buenas prácticas de programación."
   ]
  },
  {
   "cell_type": "code",
   "execution_count": 71,
   "metadata": {},
   "outputs": [
    {
     "name": "stdout",
     "output_type": "stream",
     "text": [
      "La primer raíz es (6.123233995736766e-17+1j) y la segunda raíz es (-6.123233995736766e-17-1j) de x^2 + 1 = 0\n"
     ]
    }
   ],
   "source": [
    "def chicharronera(a, b, c):\n",
    "    \"\"\"Función que calcula las raíces de una ecuación de segundo grado\n",
    "\n",
    "    Args:\n",
    "        a (int or float): Coeficiente de x^2\n",
    "        b (int or float): Coeficiente de x\n",
    "        c (int or float): Coeficiente independiente\n",
    "\n",
    "    Returns:\n",
    "        complex, float or int , complex, float or int: raíces de la ecuación\n",
    "    \"\"\"\n",
    "    try:\n",
    "        #Calcula la primer raíz\n",
    "        x1 = (-b + (b**2 - 4*a*c)**0.5)/(2*a)\n",
    "        #Calcula la segunda raíz\n",
    "        x2 = (-b - (b**2 - 4*a*c)**0.5)/(2*a)\n",
    "        return x1, x2\n",
    "    except:\n",
    "        print('No se puede calcular la raíz de una ecuación con coeficiente cuadrático igual a cero')\n",
    "        return None, None\n",
    "\n",
    "raiz_1, raiz_2 = chicharronera(1, 0, 1)\n",
    "\n",
    "print(f\"La primer raíz es {raiz_1} y la segunda raíz es {raiz_2} de x^2 + 1 = 0\")"
   ]
  },
  {
   "cell_type": "code",
   "execution_count": 72,
   "metadata": {},
   "outputs": [
    {
     "name": "stdout",
     "output_type": "stream",
     "text": [
      "La primer raíz es 0.05931587198105248 y la segunda raíz es -5.202173014838195 de 3.5x^2 + 18x -1.08 = 0\n"
     ]
    }
   ],
   "source": [
    "raiz_1, raiz_2 = chicharronera(3.5, 18, -1.08)\n",
    "\n",
    "print(f\"La primer raíz es {raiz_1} y la segunda raíz es {raiz_2} de 3.5x^2 + 18x -1.08 = 0\")"
   ]
  },
  {
   "cell_type": "code",
   "execution_count": 73,
   "metadata": {},
   "outputs": [
    {
     "name": "stdout",
     "output_type": "stream",
     "text": [
      "No se puede calcular la raíz de una ecuación con coeficiente cuadrático igual a cero\n"
     ]
    }
   ],
   "source": [
    "raiz_1, raiz_2 = chicharronera(0, 0, 0)"
   ]
  },
  {
   "cell_type": "code",
   "execution_count": 74,
   "metadata": {},
   "outputs": [
    {
     "name": "stdout",
     "output_type": "stream",
     "text": [
      "Help on function chicharronera in module __main__:\n",
      "\n",
      "chicharronera(a, b, c)\n",
      "    Función que calcula las raíces de una ecuación de segundo grado\n",
      "    \n",
      "    Args:\n",
      "        a (int or float): Coeficiente de x^2\n",
      "        b (int or float): Coeficiente de x\n",
      "        c (int or float): Coeficiente independiente\n",
      "    \n",
      "    Returns:\n",
      "        complex, float or int , complex, float or int: raíces de la ecuación\n",
      "\n"
     ]
    }
   ],
   "source": [
    "help(chicharronera)"
   ]
  },
  {
   "cell_type": "code",
   "execution_count": 75,
   "metadata": {},
   "outputs": [
    {
     "name": "stdout",
     "output_type": "stream",
     "text": [
      "\u001b[1;31mSignature:\u001b[0m \u001b[0mchicharronera\u001b[0m\u001b[1;33m(\u001b[0m\u001b[0ma\u001b[0m\u001b[1;33m,\u001b[0m \u001b[0mb\u001b[0m\u001b[1;33m,\u001b[0m \u001b[0mc\u001b[0m\u001b[1;33m)\u001b[0m\u001b[1;33m\u001b[0m\u001b[1;33m\u001b[0m\u001b[0m\n",
      "\u001b[1;31mDocstring:\u001b[0m\n",
      "Función que calcula las raíces de una ecuación de segundo grado\n",
      "\n",
      "Args:\n",
      "    a (int or float): Coeficiente de x^2\n",
      "    b (int or float): Coeficiente de x\n",
      "    c (int or float): Coeficiente independiente\n",
      "\n",
      "Returns:\n",
      "    complex, float or int , complex, float or int: raíces de la ecuación\n",
      "\u001b[1;31mFile:\u001b[0m      c:\\users\\roker\\appdata\\local\\temp\\ipykernel_10860\\1429190747.py\n",
      "\u001b[1;31mType:\u001b[0m      function\n"
     ]
    }
   ],
   "source": [
    "chicharronera?"
   ]
  },
  {
   "cell_type": "markdown",
   "metadata": {},
   "source": [
    "Puede anidarse múltiples funciones dentro de otras funciones. Esto se conoce como **funciones anidadas**. Pero una función anidada solo puede ser llamada desde la función que la contiene."
   ]
  },
  {
   "cell_type": "code",
   "execution_count": 76,
   "metadata": {},
   "outputs": [],
   "source": [
    "def factorial(n):\n",
    "    \"\"\"Función que calcula el factorial de un número\n",
    "\n",
    "    Args:\n",
    "        n (int): Número del que se quiere calcular el factorial\n",
    "\n",
    "    Returns:\n",
    "        int: Factorial del número n\n",
    "    \"\"\"\n",
    "    #Valida que el número sea entero\n",
    "    if not isinstance(n, int):\n",
    "        raise TypeError('El número debe ser entero')\n",
    "    #Valida que el número sea positivo\n",
    "    if n < 0:\n",
    "        raise ValueError('El número debe ser positivo')\n",
    "    \n",
    "    def factorial_aux(n):\n",
    "        if n <= 1:\n",
    "            return 1\n",
    "\n",
    "        return n*factorial_aux(n-1)\n",
    "\n",
    "    return factorial_aux(n)"
   ]
  },
  {
   "cell_type": "code",
   "execution_count": 77,
   "metadata": {},
   "outputs": [
    {
     "data": {
      "text/plain": [
       "24"
      ]
     },
     "execution_count": 77,
     "metadata": {},
     "output_type": "execute_result"
    }
   ],
   "source": [
    "factorial(4)\n",
    "#factorial(4.5)"
   ]
  },
  {
   "cell_type": "code",
   "execution_count": 78,
   "metadata": {},
   "outputs": [
    {
     "data": {
      "text/plain": [
       "6"
      ]
     },
     "execution_count": 78,
     "metadata": {},
     "output_type": "execute_result"
    }
   ],
   "source": [
    "factorial(3)"
   ]
  },
  {
   "attachments": {
    "mr_increible_2_meme.jpeg": {
     "image/jpeg": "[encoded data removed]"
    }
   },
   "cell_type": "markdown",
   "metadata": {},
   "source": [
    "#### Nivel 6: Clases\n",
    "\n",
    "![mr_increible_2_meme.jpeg](attachment:mr_increible_2_meme.jpeg)"
   ]
  }
 ],
 "metadata": {
  "kernelspec": {
   "display_name": "Python 3 (ipykernel)",
   "language": "python",
   "name": "python3"
  },
  "language_info": {
   "codemirror_mode": {
    "name": "ipython",
    "version": 3
   },
   "file_extension": ".py",
   "mimetype": "text/x-python",
   "name": "python",
   "nbconvert_exporter": "python",
   "pygments_lexer": "ipython3",
   "version": "3.9.15"
  },
  "vscode": {
   "interpreter": {
    "hash": "ad2bdc8ecc057115af97d19610ffacc2b4e99fae6737bb82f5d7fb13d2f2c186"
   }
  }
 },
 "nbformat": 4,
 "nbformat_minor": 2
}

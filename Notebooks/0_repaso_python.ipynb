{
 "cells": [
  {
   "attachments": {},
   "cell_type": "markdown",
   "metadata": {},
   "source": [
    "# Repaso de los conceptos básicos de python\n",
    "\n",
    "### Ciencia de Datos para físicos: teoría y aplicaciones.\n",
    "\n",
    "En este notebook repasaremos los conceptos básicos de python, como variables, tipos de variables, valores, nombres, condicionales, loops, tuplas, listas, diccionarios, funciones, clases, modulos y paquetes."
   ]
  },
  {
   "attachments": {},
   "cell_type": "markdown",
   "metadata": {},
   "source": [
    "#### Nivel 0: Variables\n",
    "\n",
    "Para comenzar veamos cómo imprimir texto en pantalla, esto se hace con el método ``print()``:"
   ]
  },
  {
   "cell_type": "code",
   "execution_count": 2,
   "metadata": {},
   "outputs": [
    {
     "name": "stdout",
     "output_type": "stream",
     "text": [
      "Hola mundo\n"
     ]
    }
   ],
   "source": [
    "print('Hola mundo')"
   ]
  },
  {
   "attachments": {},
   "cell_type": "markdown",
   "metadata": {},
   "source": [
    "Documentación:\n",
    "\n",
    "Como DS siempre es importante documentar el código que uno escribe, ya que éste podría ser revisado por alguien más e incluso trabajar en conjunto con otros DS para desarrollar algún tipo de programa.\n",
    "\n",
    "La documentación es simplemente un comentario que se escribe en el código, para que el programador que lo revisa pueda entender qué es lo que hace el código. En python se hace con el símbolo ``#``. O bien, para una gran cantidad de lineas se usan los simbolos ``\"\"\"``."
   ]
  },
  {
   "cell_type": "code",
   "execution_count": 4,
   "metadata": {},
   "outputs": [
    {
     "name": "stdout",
     "output_type": "stream",
     "text": [
      "Hola mi buen amigo ¿Cómo estás?\n",
      "Adios amigos!\n"
     ]
    }
   ],
   "source": [
    "#Este es un comentario de una sola línea\n",
    "#Imprime en pantalla un saludo\n",
    "print(\"Hola mi buen amigo ¿Cómo estás?\")\n",
    "\n",
    "\"\"\"Este es un comentario de varias líneas\n",
    "en éste no es necesario colocar el simbolo #\n",
    "a continuación se imprime una despedida\n",
    "\"\"\"\n",
    "print(\"Adios amigos!\")"
   ]
  },
  {
   "attachments": {},
   "cell_type": "markdown",
   "metadata": {},
   "source": [
    "Un programa Python tiene acceso a parte de la memoria de tu ordenador a través de tu sistema operativo. Esa memoria se utiliza para el código del propio programa y los datos que utiliza. El sistema operativo se asegura de que el programa no pueda leer o escribir en otras posiciones de memoria sin tener el permiso.\n",
    "\n",
    "En Python, un objeto es un trozo de datos que contiene al menos lo siguiente:\n",
    "* Un *tipo* de datos, que indica qué tipo de datos es el objeto.\n",
    "* Un *valor*, que es el valor de los datos que contiene el objeto.\n",
    "* Una *identidad* o *id*, que es un número único que identifica al objeto.\n",
    "\n",
    "En Python, los objetos tienen un tipo de datos, que indica qué tipo de datos es el objeto. Los tipos de datos más comunes son los siguientes:\n",
    "\n",
    "|Nombre|Tipo| ¿Mutable? | Ejemplos |\n",
    "|:----:|:-: |:---------:| :-------:|\n",
    "| Boolean | bool | No | ``True``, ``False`` |\n",
    "| Integer | int  | No | ``47``, ``12400`` |\n",
    "| Floating point | float | No | ``3.1415``, ``2.7e10`` |\n",
    "| Complex | complex | No | ``3i``, ``5i+18`` |\n",
    "| Text string  | str | No | ``'f ciencias'``, ``\"Martes\"`` |\n",
    "| List | list | Si | ``['manzana',\"pera\",\"naranja\"]``, ``[1,5,3.14,'numeros']`` |\n",
    "| Tuple | tuple | No | ``(1,2,5,7,7)`` |\n",
    "| Set | set | Si | ``set((1,2,5,7,7))`` |\n",
    "| Dictionary | dict | Si | ``{'nombre':'Juan','edad':20}`` |\n",
    "\n",
    "La propiedad de **mutabilidad** se refiere a sí el o los valores asignados pueden ser cambiados (es mutable) o no (inmutable). Para clarificar esto, piensa en un objeto inmutable como una caja sellada, pero con los lados transparentes, puedes ver el valor pero no puedes cambiarlo. Por la misma analogía, un objeto mutable es como una caja con tapa: no sólo puedes ver el valor que hay dentro, también puedes cambiarlo; sin embargo, no puedes cambiar su tipo.\n",
    "\n",
    "Python es un lenguaje de programación **fuertemente tipado** lo que significa que el tipo de un objeto no puede ser cambiado de ninguna manera.\n",
    "\n",
    "\n",
    "Para declarar o definir una variable debe asignarse un nombre a ésta y ademas usar el simbolo =. Por ejemplo:\n",
    "\n",
    "``mi_edad = 18``\n",
    "\n",
    "``pi = 3.1415``\n",
    "\n",
    "En python los nombres de las variables deben seguir las siguientes reglas:\n",
    "* Solo pueden contener los siguientes caracteres\n",
    "    * Letras (a-z, A-Z)\n",
    "    * Números (0-9)\n",
    "    * Guiones bajos (_)\n",
    "* Son case-sensitive, es decir, que ``edad``, ``EDAD``, ``Edad``, ``EdaD``, ...,  son variables diferentes.\n",
    "* No pueden empezar con un número.\n",
    "* No pueden ser palabras reservadas del lenguaje.\n",
    "\n",
    "Las palabras reservadas en python son:\n",
    "| | | | | |\n",
    "|:----:|:-: |:---------:| :-------:|:---------:|\n",
    "| False|await|else|import|pass|\n",
    "| None|break|except|in|raise|\n",
    "| True|class|finally|is|return|\n",
    "| and|continue|for|lambda|try|\n",
    "| as|def|from|nonlocal|while|\n",
    "| assert|del|global|not|with|\n",
    "| async|elif|if|or|yield|\n",
    "\n",
    "Algunos nombres de variables no válidos en python son:\n",
    "* ``1edad``\n",
    "* ``edad 1``\n",
    "* ``edad-1``\n",
    "* ``edad+1``\n",
    "* ``edad*1``\n",
    "* ``edad/1``\n",
    "* ``edad@1``\n",
    "* ``edad#1``\n",
    "* ``edad-1``\n",
    "* ``1_``"
   ]
  },
  {
   "cell_type": "code",
   "execution_count": 51,
   "metadata": {},
   "outputs": [
    {
     "name": "stdout",
     "output_type": "stream",
     "text": [
      "Firulais 5 10.5 True\n",
      "El perro se llama Firulais y tiene 5 años, pesa 10.5 kg y está vivo: True\n"
     ]
    }
   ],
   "source": [
    "#definamos algunas variables de diversos tipos\n",
    "nombre_perro = \"Firulais\"\n",
    "edad_perro = 5\n",
    "peso_perro = 10.5\n",
    "esta_vivo = True\n",
    "#imprimamos las variables\n",
    "print(nombre_perro, edad_perro, peso_perro, esta_vivo)\n",
    "#este print puede hacerse más informativo con el uso de format\n",
    "print('El perro se llama {} y tiene {} años, pesa {} kg y está vivo: {}'\\\n",
    "    .format(nombre_perro, edad_perro, peso_perro, esta_vivo))"
   ]
  },
  {
   "cell_type": "code",
   "execution_count": 8,
   "metadata": {},
   "outputs": [
    {
     "name": "stdout",
     "output_type": "stream",
     "text": [
      "<class 'str'>\n",
      "<class 'int'>\n",
      "<class 'float'>\n",
      "<class 'bool'>\n"
     ]
    }
   ],
   "source": [
    "#podemos conocer el tipo de la variable usando el método type\n",
    "print(type(nombre_perro))\n",
    "print(type(edad_perro))\n",
    "print(type(peso_perro))\n",
    "print(type(esta_vivo))"
   ]
  },
  {
   "attachments": {},
   "cell_type": "markdown",
   "metadata": {},
   "source": [
    "En programación existe un concepto llamado **buenas prácticas de programación**, dentro de la cual se sugiere el uso de nombres de variables relevantes al programa en cuestión. Imagina que en el ejemplo anterior en lugar de nombre, edad, peso y esta_vivo hubiesemos usado los nombres de variables a1xx, b, f46g y booleano, ¿te imaginas cuánto tiempo te tomaría entender a qué se refiere cada variable? Por eso es importante usar nombres de variables que tengan sentido."
   ]
  },
  {
   "cell_type": "code",
   "execution_count": 53,
   "metadata": {},
   "outputs": [
    {
     "name": "stdout",
     "output_type": "stream",
     "text": [
      "True True True\n"
     ]
    }
   ],
   "source": [
    "#Tambien pueden definirse varias variables en una sola linea\n",
    "alumno_1_aprobado = alumno_2_aprobado = alumno_j_aprobado = True\n",
    "print(alumno_1_aprobado, alumno_2_aprobado, alumno_j_aprobado)"
   ]
  },
  {
   "cell_type": "code",
   "execution_count": 54,
   "metadata": {},
   "outputs": [
    {
     "name": "stdout",
     "output_type": "stream",
     "text": [
      "True True False\n"
     ]
    }
   ],
   "source": [
    "#Tambien pueden definirse varias variables en una sola linea\n",
    "alumno_1_aprobado, alumno_2_aprobado, alumno_j_aprobado = True, True, False\n",
    "print(alumno_1_aprobado, alumno_2_aprobado, alumno_j_aprobado)"
   ]
  },
  {
   "attachments": {},
   "cell_type": "markdown",
   "metadata": {},
   "source": [
    "#### Nivel 1: Operaciones con variables\n",
    "\n",
    "Las operaciones aritméticas con variables están bien definidas, como en el álgebra.\n",
    "\n",
    "|Operador|Descripción| Ejemplos |\n",
    "|:----:|:-: |:---------:|\n",
    "| + | Suma~~toria~~ | ``5+9`` |\n",
    "| - | Resta  | ``5-9`` |\n",
    "| * | Producto~~ria~~ | ``5*9`` |\n",
    "| / | División | ``5/9`` |\n",
    "| //  | División entera | ``5//9`` |\n",
    "| % | Modulo | ``5%9`` |\n",
    "| ** | Exponenciación | ``2**3`` |\n",
    "| == | Igualdad | ``2==3`` |\n",
    "| != | Diferencia | ``2!=3`` |\n",
    "| > | Mayor que | ``2>3`` |\n",
    "| < | Menor que | ``2>3`` |\n",
    "| > | Mayor o igual que | ``2>=3`` |\n",
    "| <= | Menor o igual que | ``2>3`` |\n",
    "\n",
    "* Algunos operadores no están bien definidos para algunos tipos, poer ejemplo la division entre str"
   ]
  },
  {
   "cell_type": "code",
   "execution_count": 16,
   "metadata": {},
   "outputs": [
    {
     "name": "stdout",
     "output_type": "stream",
     "text": [
      "+:5, -:-1, *:6, /:0.6666666666666666, //:0, %:2, **:8, ==:False, !=:True, >:False, <:True, >=:False, <=:True\n"
     ]
    }
   ],
   "source": [
    "print(f\"+:{2+3}, -:{2-3}, *:{2*3}, /:{2/3}, //:{2//3}, %:{2%3}, **:{2**3}, \" \n",
    " f\"==:{2==3}, !=:{2!=3}, >:{2>3}, <:{2<3}, >=:{2>=3}, <=:{2<=3}\")"
   ]
  },
  {
   "attachments": {},
   "cell_type": "markdown",
   "metadata": {},
   "source": [
    "Las operaciones con booleanos se realizan de forma especial. Python realiza una operación llamada **cast** la cual consiste en usar una copia del tipo boleano y convertirla a un valor entero. True vale 1 y False vale 0. Para realizar un **cast** se usa el tipo que se desea convertir seguido de la variable a convertir.\n",
    "Algunos valores no se pueden castear por ejemplo un str 'perro' no puede ser casteado a un booleano, porque python no conoce la regla de conversión para ello habría que hacer algún truquillo."
   ]
  },
  {
   "cell_type": "code",
   "execution_count": 29,
   "metadata": {},
   "outputs": [
    {
     "data": {
      "text/plain": [
       "1"
      ]
     },
     "execution_count": 29,
     "metadata": {},
     "output_type": "execute_result"
    }
   ],
   "source": [
    "int(True)"
   ]
  },
  {
   "cell_type": "code",
   "execution_count": 31,
   "metadata": {},
   "outputs": [
    {
     "data": {
      "text/plain": [
       "0.0"
      ]
     },
     "execution_count": 31,
     "metadata": {},
     "output_type": "execute_result"
    }
   ],
   "source": [
    "float(False)"
   ]
  },
  {
   "cell_type": "code",
   "execution_count": 30,
   "metadata": {},
   "outputs": [
    {
     "data": {
      "text/plain": [
       "'True'"
      ]
     },
     "execution_count": 30,
     "metadata": {},
     "output_type": "execute_result"
    }
   ],
   "source": [
    "str(True)"
   ]
  },
  {
   "attachments": {},
   "cell_type": "markdown",
   "metadata": {},
   "source": [
    "La operación aritmética con booleanos no debe confundirse con álgebra booleana, en la cual se usan los operadores lógicos AND, OR y NOT. En el álgebra booleana siempre se regresará un valor booleano, mientras que en la operación aritmética con booleanos se regresará un valor entero."
   ]
  },
  {
   "cell_type": "code",
   "execution_count": 55,
   "metadata": {},
   "outputs": [
    {
     "name": "stdout",
     "output_type": "stream",
     "text": [
      "aritmética: 0 booleana: False\n"
     ]
    }
   ],
   "source": [
    "print(f'aritmética: {True * False} booleana: {True and False}')"
   ]
  },
  {
   "attachments": {},
   "cell_type": "markdown",
   "metadata": {},
   "source": [
    "Veamos ahora un ejemplo de operaciones con variables"
   ]
  },
  {
   "cell_type": "code",
   "execution_count": 58,
   "metadata": {},
   "outputs": [
    {
     "name": "stdout",
     "output_type": "stream",
     "text": [
      "El volumen del cubo es: 6243.275 cm^3\n"
     ]
    }
   ],
   "source": [
    "lado_1 = 30.455\n",
    "lado_2 = 20.500\n",
    "lado_3 = 10.000\n",
    "\n",
    "vol = lado_1 * lado_2 * lado_3\n",
    "\n",
    "print(f'El volumen del cubo es: {vol} cm^3')"
   ]
  },
  {
   "cell_type": "code",
   "execution_count": 59,
   "metadata": {},
   "outputs": [
    {
     "name": "stdout",
     "output_type": "stream",
     "text": [
      "El volumen del cubo es: 708.275 cm^3\n"
     ]
    }
   ],
   "source": [
    "lado_1 = 3.455\n",
    "vol = lado_1 * lado_2 * lado_3\n",
    "\n",
    "print(f'El volumen del cubo es: {vol} cm^3')"
   ]
  },
  {
   "cell_type": "code",
   "execution_count": 60,
   "metadata": {},
   "outputs": [
    {
     "name": "stdout",
     "output_type": "stream",
     "text": [
      "El área del lado 1 y 2 del cubo es: 7.08275 cm^2\n"
     ]
    }
   ],
   "source": [
    "vol = (lado_1 * lado_2) / lado_3\n",
    "\n",
    "print(f'El área del lado 1 y 2 del cubo es: {vol} cm^2')"
   ]
  },
  {
   "cell_type": "code",
   "execution_count": 61,
   "metadata": {},
   "outputs": [
    {
     "name": "stdout",
     "output_type": "stream",
     "text": [
      "7.0\n"
     ]
    }
   ],
   "source": [
    "vol = vol - 0.08275\n",
    "print(vol)"
   ]
  },
  {
   "cell_type": "code",
   "execution_count": 62,
   "metadata": {},
   "outputs": [
    {
     "name": "stdout",
     "output_type": "stream",
     "text": [
      "8.0\n"
     ]
    }
   ],
   "source": [
    "vol += 1\n",
    "print(vol) "
   ]
  },
  {
   "cell_type": "code",
   "execution_count": 63,
   "metadata": {},
   "outputs": [
    {
     "name": "stdout",
     "output_type": "stream",
     "text": [
      "5.0\n"
     ]
    }
   ],
   "source": [
    "vol -= 3\n",
    "print(vol)"
   ]
  },
  {
   "cell_type": "code",
   "execution_count": 64,
   "metadata": {},
   "outputs": [
    {
     "name": "stdout",
     "output_type": "stream",
     "text": [
      "10.0 5.0\n"
     ]
    }
   ],
   "source": [
    "print(vol*2, vol)"
   ]
  },
  {
   "attachments": {},
   "cell_type": "markdown",
   "metadata": {},
   "source": [
    "#### Nivel 2: Condicionales if, elif y else\n",
    "\n",
    "Los condicionales son estructuras de control que permiten controlar la ejecución de ciertas partes del código (el código debe encontrarse dentro de esta estructura de control.)\n",
    "\n",
    "El condicional if, se traduce al español como \"Si, esto se cumple, entonces haz esto\". El condicional if se escribe de la siguiente forma:\n",
    "\n",
    "``` \n",
    "if condicion:\n",
    "    Código a ejecutar si la condición anterior se cumple\n",
    "```\n",
    "\n",
    "notése que después de la condición se colocan dos puntos y que el código a ejecutar se encuentra indentado (cuatro espacios) Si no se identa el código lanzará error o en el mejor de los casos aún cuando la condición no se cumpla, el código se ejecutará.\n",
    "\n",
    "El condicional if puede ser seguido de un condicional elif, el cual se traduce al español como \"Si no se cumple la condición anterior, pero se cumple esta, entonces haz esto\". El condicional elif se escribe de la siguiente forma:\n",
    "\n",
    "``` \n",
    "if condicion:\n",
    "    Código a ejecutar si la condición anterior se cumple\n",
    "\n",
    "elif:\n",
    "    Código a ejecutar si la condición anterior se cumple\n",
    "```\n",
    "Al igual con if, el código a ejecutar debe identarse.\n",
    "\n",
    "La estructura de control if puede ser seguida de un condicional else, el cual se traduce al español como \"Si no se cumple ninguna de las condiciones anteriores, entonces haz esto\". El condicional else se escribe de la siguiente forma:\n",
    "\n",
    "``` \n",
    "if condicion:\n",
    "    Código a ejecutar si la condición anterior se cumple\n",
    "\n",
    "else:\n",
    "    Código a ejecutar si la(s) condición(es) no se cumple(n)\n",
    "```"
   ]
  },
  {
   "cell_type": "markdown",
   "metadata": {},
   "source": []
  }
 ],
 "metadata": {
  "kernelspec": {
   "display_name": "base",
   "language": "python",
   "name": "python3"
  },
  "language_info": {
   "codemirror_mode": {
    "name": "ipython",
    "version": 3
   },
   "file_extension": ".py",
   "mimetype": "text/x-python",
   "name": "python",
   "nbconvert_exporter": "python",
   "pygments_lexer": "ipython3",
   "version": "3.9.15"
  },
  "orig_nbformat": 4,
  "vscode": {
   "interpreter": {
    "hash": "ad2bdc8ecc057115af97d19610ffacc2b4e99fae6737bb82f5d7fb13d2f2c186"
   }
  }
 },
 "nbformat": 4,
 "nbformat_minor": 2
}

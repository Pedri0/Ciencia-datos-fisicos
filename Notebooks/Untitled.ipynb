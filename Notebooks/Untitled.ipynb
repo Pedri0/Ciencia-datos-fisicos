{
 "cells": [
  {
   "cell_type": "markdown",
   "id": "5c13ec1e",
   "metadata": {},
   "source": [
    "$$\\int$$\n",
    "\n",
    "Hola como estas?\n",
    "\n",
    "print('hola mundo')"
   ]
  },
  {
   "cell_type": "code",
   "execution_count": 4,
   "id": "e304bdee",
   "metadata": {},
   "outputs": [
    {
     "data": {
      "text/plain": [
       "64"
      ]
     },
     "execution_count": 4,
     "metadata": {},
     "output_type": "execute_result"
    }
   ],
   "source": [
    "8*8"
   ]
  },
  {
   "cell_type": "code",
   "execution_count": null,
   "id": "51a82f63",
   "metadata": {},
   "outputs": [],
   "source": []
  }
 ],
 "metadata": {
  "kernelspec": {
   "display_name": "Python 3 (ipykernel)",
   "language": "python",
   "name": "python3"
  },
  "language_info": {
   "codemirror_mode": {
    "name": "ipython",
    "version": 3
   },
   "file_extension": ".py",
   "mimetype": "text/x-python",
   "name": "python",
   "nbconvert_exporter": "python",
   "pygments_lexer": "ipython3",
   "version": "3.9.16"
  }
 },
 "nbformat": 4,
 "nbformat_minor": 5
}

{
 "cells": [
  {
   "cell_type": "code",
   "execution_count": 35,
   "metadata": {},
   "outputs": [],
   "source": [
    "# imports\n",
    "import numpy as np\n",
    "import seaborn as sns\n",
    "from matplotlib import pyplot as plt\n",
    "from IPython.core.display import Image, display\n",
    "import scipy.stats as stats"
   ]
  },
  {
   "attachments": {},
   "cell_type": "markdown",
   "metadata": {},
   "source": [
    "# Fundamentos de estadística descriptiva\n",
    "\n",
    "### Ciencia de Datos para físicos: teoría y aplicaciones.\n",
    "\n",
    "En este notebook se presentan las distribuciones de probabilidad más comunes en la estadística descriptiva. Se presentan ejemplos de su uso en el análisis de datos."
   ]
  },
  {
   "attachments": {},
   "cell_type": "markdown",
   "metadata": {},
   "source": [
    "#### Variables aleatorias\n",
    "\n",
    "Una variable aleatoria es una variable matemática que toma diferentes valores con diferentes probabilidades. Es una medida estadística utilizada para describir cualquier proceso que tiene resultados inciertos.\n",
    "\n",
    "Hay dos tipos de variables aleatorias: discretas y continuas. Una variable aleatoria discreta solo puede tomar valores finitos o contables, mientras que una variable aleatoria continua puede tomar cualquier valor en un rango específico. Por ejemplo, el número de personas en una sala es una variable aleatoria discreta, mientras que la altura de una persona es una variable aleatoria continua.\n",
    "\n",
    "La variable aleatoria tiene una función de distribución de probabilidad asociada a ella, que describe la probabilidad de que la variable tome cada uno de sus valores posibles. Esta función de distribución de probabilidad es la base para el cálculo de probabilidades y para la estimación de parámetros estadísticos.\n"
   ]
  },
  {
   "attachments": {},
   "cell_type": "markdown",
   "metadata": {},
   "source": [
    "### Distribuciones de probabilidad discretas\n",
    "\n",
    "#### Distribución binomial\n",
    "\n",
    "Describe el número de éxitos en un número fijo de ensayos independientes, cada uno con una probabilidad fija de éxito. Se caracteriza por dos parámetros: $n$, el número de ensayos, y $p$, la probabilidad de éxito en un solo ensayo.\n",
    "\n",
    "La función de probabilidad de la distribución binomial se puede calcular utilizando la fórmula:\n",
    "$$P[X = k] = \\binom{n}{k} p^{k}(1-p)^{n-k}$$\n",
    "\n",
    "Esta distribución realiza los siguientes supuestos: **Cada ensayo es independiente**, **Cada ensayo tiene dos resultados posibles**, **La probabilidad de éxito siempre es la misma en cada ensayo**.\n",
    "\n",
    "La media de la distribución binomial es $np$ y su varianza es $np(1-p)$.\n",
    "\n",
    "La distribución binomial tiene una variedad de aplicaciones en ciencia de datos, entre ellas:\n",
    "* Modelar el número de errores en un proceso de producción\n",
    "* Modelar el número de clientes que compran un producto en un día específico\n",
    "* Modelar el número de defectos en un producto\n",
    "\n",
    "Es importante saber que cuando el número de ensayos es grande y la probabilidad de éxito es pequeña, la distribución binomial se aproxima a la distribución normal, lo que permite usar herramientas estadísticas que requieren distribuciones normales."
   ]
  },
  {
   "cell_type": "code",
   "execution_count": 36,
   "metadata": {},
   "outputs": [],
   "source": [
    "\"\"\" Ejemplo 1: Si sabemos que un vendedor de tarjetas de crédito tiene un 30% de vender\n",
    "¿Cuál es la probabilidad de que venda exactamente 3 de 5 tarjetas?\n",
    "\"\"\"\n",
    "\n",
    "intentos, probabilidad_venta = 5, 0.3\n",
    "# Obtengamos la distribución binomial\n",
    "binomial = stats.binom(n = intentos, p = probabilidad_venta)"
   ]
  },
  {
   "cell_type": "code",
   "execution_count": 37,
   "metadata": {},
   "outputs": [
    {
     "data": {
      "image/png": "[encoded data removed]",
      "text/plain": [
       "<Figure size 640x480 with 1 Axes>"
      ]
     },
     "metadata": {},
     "output_type": "display_data"
    }
   ],
   "source": [
    "intentos_discretos = np.arange(0, intentos + 1)\n",
    "mass_function = binomial.pmf(intentos_discretos)\n",
    "# Grafiquemos la PMF probability mass function (así se llama la PDF para variables discretas)\n",
    "_ = sns.barplot(x = intentos_discretos,y = mass_function, color='green')\n",
    "_ = plt.ylabel('Probabilidad')\n",
    "_ = plt.xlabel('Número de ventas exitosas')\n",
    "_ = plt.title('PMF de la distribución binomial')"
   ]
  },
  {
   "attachments": {},
   "cell_type": "markdown",
   "metadata": {},
   "source": [
    "Al ver la gráfica, podemos ver que la probabilidad de vender 3 tarjetas en 5 intentos es de 0.1323, es decir, el 13.23% de las veces se venderán 3 tarjetas en 5 intentos."
   ]
  },
  {
   "cell_type": "code",
   "execution_count": 38,
   "metadata": {},
   "outputs": [
    {
     "name": "stdout",
     "output_type": "stream",
     "text": [
      "96.922\n",
      "96.92199999999995\n"
     ]
    }
   ],
   "source": [
    "# ¿Cuál es la probabilidad de que venda 3 tarjetas o menos?\n",
    "# P(X <= 5), Para esto usamos la función de distribución acumulada\n",
    "probabilidad_venta_3_tarjetas = binomial.cdf(3)\n",
    "print(probabilidad_venta_3_tarjetas*100)\n",
    "\n",
    "# o bien\n",
    "print((mass_function[:4].sum())*100)"
   ]
  },
  {
   "cell_type": "code",
   "execution_count": 39,
   "metadata": {},
   "outputs": [
    {
     "name": "stdout",
     "output_type": "stream",
     "text": [
      "3.078000000000003\n",
      "3.0779999999999994\n"
     ]
    }
   ],
   "source": [
    "#¿Cuál es la probabilidad de que venda 3 tarjetas o más?\n",
    "print((1 - probabilidad_venta_3_tarjetas)*100)\n",
    "\n",
    "# o bien\n",
    "print(binomial.sf(3)*100)"
   ]
  },
  {
   "attachments": {},
   "cell_type": "markdown",
   "metadata": {},
   "source": [
    "#### Distribución geométrica"
   ]
  }
 ],
 "metadata": {
  "kernelspec": {
   "display_name": "base",
   "language": "python",
   "name": "python3"
  },
  "language_info": {
   "codemirror_mode": {
    "name": "ipython",
    "version": 3
   },
   "file_extension": ".py",
   "mimetype": "text/x-python",
   "name": "python",
   "nbconvert_exporter": "python",
   "pygments_lexer": "ipython3",
   "version": "3.9.15"
  },
  "orig_nbformat": 4,
  "vscode": {
   "interpreter": {
    "hash": "ad2bdc8ecc057115af97d19610ffacc2b4e99fae6737bb82f5d7fb13d2f2c186"
   }
  }
 },
 "nbformat": 4,
 "nbformat_minor": 2
}
